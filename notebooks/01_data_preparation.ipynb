{
 "cells": [
  {
   "cell_type": "markdown",
   "metadata": {},
   "source": [
    "# Data Preparation\n",
    "\n",
    "`Overview`\n",
    "This notebook handles the initial data processing pipeline:\n",
    "- Loading raw data from source files\n",
    "- Performing exploratory data analysis (EDA)\n",
    "- Cleaning and handling missing values\n",
    "- Feature preprocessing and engineering\n",
    "- Exporting processed datasets for modeling\n",
    "\n",
    "`Inputs`\n",
    "- Raw data files from `../data/raw/` \n",
    "\n",
    "`Outputs`\n",
    "- Processed datasets in `../data/processed/`\n",
    "- EDA visualizations in `../reports/figures/`\n",
    "\n",
    "`Dependencies`\n",
    "- pandas\n",
    "- numpy\n",
    "- matplotlib\n",
    "- seaborn\n",
    "\n",
    "*Note: This is notebook 1 of the analysis pipeline*"
   ]
  },
  {
   "cell_type": "code",
   "execution_count": 1,
   "metadata": {},
   "outputs": [],
   "source": [
    "# Imports \n",
    "import numpy as np\n",
    "import pandas as pd\n",
    "import matplotlib.pyplot as plt\n",
    "import seaborn as sns\n",
    "import os\n",
    "from datetime import datetime\n",
    "from pprint import pprint\n",
    "from pathlib import Path\n",
    "import csv\n",
    "import sys\n",
    "\n",
    "# Import data classes\n",
    "project_root = Path.cwd().parent  # assumes you're in /notebooks\n",
    "sys.path.append(str(project_root))\n",
    "\n",
    "# Import custom modules\n",
    "from backend.etl.ingestion import inspect_bad_lines, auto_fix_row, robust_csv_reader\n",
    "from backend.etl.cleaning import standardize_columns, clean_numeric_column, clean_date_column\n"
   ]
  },
  {
   "cell_type": "code",
   "execution_count": 2,
   "metadata": {},
   "outputs": [
    {
     "name": "stderr",
     "output_type": "stream",
     "text": [
      "'which' is not recognized as an internal or external command,\n",
      "operable program or batch file.\n"
     ]
    }
   ],
   "source": [
    "!which python\n"
   ]
  },
  {
   "cell_type": "markdown",
   "metadata": {},
   "source": [
    "Here we load the project specific datasets as CSV files. In the follow-up cell, we load the auxiliary dataset containing extra information on the CORDIS-HORIZON projects. This includes\n",
    "- Scientific vocabulary \n",
    "- legal basis documents\n",
    "- organization\n",
    "- project\n",
    "- topics\n",
    "- webItem \n",
    "- webLink"
   ]
  },
  {
   "cell_type": "code",
   "execution_count": 3,
   "metadata": {},
   "outputs": [
    {
     "name": "stdout",
     "output_type": "stream",
     "text": [
      "c:\\Users\\suley\\Desktop\\ManaMa\\MDA\\EU_Horizon_Dashboard\\notebooks\n"
     ]
    }
   ],
   "source": [
    "run_dir = os.getcwd()\n",
    "print(run_dir)"
   ]
  },
  {
   "cell_type": "code",
   "execution_count": 4,
   "metadata": {},
   "outputs": [],
   "source": [
    "# Import the dataset as pandas DataFrame\n",
    "run_dir = os.getcwd()\n",
    "parent_dir = os.path.dirname(run_dir)\n",
    "\n",
    "raw_dir = f'{parent_dir}/data/raw'\n",
    "interim_dir = f'{parent_dir}/data/interim'\n",
    "processed_dir = f'{parent_dir}/data/processed'\n",
    "\n",
    "# define file paths to project-specific files\n",
    "data_report_path = f'{raw_dir}/reportSummaries.csv'\n",
    "data_filereport_path = f'{raw_dir}/file_report.csv'\n",
    "data_publications_path = f'{raw_dir}/projectPublications.csv'\n",
    "data_deliverables_path = f'{raw_dir}/projectDeliverables.csv'\n",
    "\n"
   ]
  },
  {
   "cell_type": "markdown",
   "metadata": {},
   "source": [
    "## Define functions for cleaning\n",
    "The following functions are necessary to load the datasets correctly without manually changing them.\n",
    "- `inspect_bad_lines`: inspect lines that cannot be read directly\n",
    "- `auto_fix_row`: function that fixes row by merging excess columns together\n",
    "- `robust_csv_reader`: robust function that loads CSV files while applying `auto_fix_row` function on the bad lines"
   ]
  },
  {
   "cell_type": "markdown",
   "metadata": {},
   "source": [
    "Usage:\n",
    "```\n",
    "# check bad lines\n",
    "project_df, problematic_lines = inspect_bad_lines(project_path)\n",
    "\n",
    "# INspect how many bad lines there are \n",
    "print(f\"DataFrame loaded with {len(project_df)} rows.\")\n",
    "print(f\"Number of problematic lines: {len(problematic_lines)}\")\n",
    "```"
   ]
  },
  {
   "cell_type": "markdown",
   "metadata": {},
   "source": [
    "## Inspect Reports"
   ]
  },
  {
   "cell_type": "code",
   "execution_count": 5,
   "metadata": {},
   "outputs": [],
   "source": [
    "# get DataFrame keys\n",
    "data_report = pd.read_csv(data_report_path, delimiter=';')\n"
   ]
  },
  {
   "cell_type": "markdown",
   "metadata": {},
   "source": [
    "### Missing values\n",
    "\n"
   ]
  },
  {
   "cell_type": "code",
   "execution_count": 6,
   "metadata": {},
   "outputs": [
    {
     "name": "stdout",
     "output_type": "stream",
     "text": [
      "For key id:\n",
      "     0 elements are missing.\n",
      "For key title:\n",
      "     0 elements are missing.\n",
      "For key projectID:\n",
      "     0 elements are missing.\n",
      "For key projectAcronym:\n",
      "     0 elements are missing.\n",
      "For key attachment:\n",
      "     1861 elements are missing.\n",
      "For key contentUpdateDate:\n",
      "     0 elements are missing.\n",
      "For key rcn:\n",
      "     0 elements are missing.\n"
     ]
    }
   ],
   "source": [
    "# look for missing values\n",
    "report_missing = data_report.isnull()\n",
    "\n",
    "# check which columns are missing data\n",
    "for key in data_report:\n",
    "    missing = report_missing[report_missing[key] == True]\n",
    "    print(f'For key {key}:\\n     {len(missing.id)} elements are missing.')"
   ]
  },
  {
   "cell_type": "markdown",
   "metadata": {},
   "source": [
    "## Inspect deliverables"
   ]
  },
  {
   "cell_type": "code",
   "execution_count": 7,
   "metadata": {},
   "outputs": [
    {
     "name": "stdout",
     "output_type": "stream",
     "text": [
      "Found 11 problematic lines. Displaying the first 5:\n",
      "Line 1416: ['101081964_11_DELIVHORIZON', 'Guideline for trial implementation', 'Documents, reports', 'This guideline will summarise and present agricultural practices performed at BioMonitor4CAP farms and research sites with links to local/regional nature conservation goals and targeted species. Based on these baseline information the guideline will present how, when and to what extend research groups of WPs 2 and 4 are integrated into the activities of WP3. Supports specifically achieving following outcomes (Part B, section 2.3): A and B \"\"Strategy on monitoring soil biodiversity at farm scale adopted by science, end users, and policy\"\" and E \"\"Roadmap on expanding enhancing application and implementation of agri-environmental measures committing to the preservation of biodiversity', ' particularly agroforestry.\"\" This deliverable is an output of task 3.1.\"\"', '101081964', 'BioMonitor4CAP', 'https://ec.europa.eu/research/participants/documents/downloadPublic?documentIds=080166e5059d6c15&appId=PPGMS', 'Project deliverable', '2024-10-16 08:21:49', '1174701']\n",
      "Line 1424: ['101081964_23_DELIVHORIZON', 'BioMonitor4CAP webpage', 'Websites, patent fillings, videos etc.', 'Public project website including news, outputs, project info, contact info and relevant link. This deliverable is an output of task 6.2.Supports specifically achieving following outcome (Part B, section 2.3):  E \"\"Roadmap on expanding enhancing application and implementation of agri-environmental measures committing to the preservation of biodiversity', ' particularly agroforestry.\"\"\"\"', '101081964', 'BioMonitor4CAP', 'https://ec.europa.eu/research/participants/documents/downloadPublic?documentIds=080166e504c0d848&appId=PPGMS', 'Project deliverable', '2024-10-16 08:21:44', '1174688']\n",
      "Line 6677: ['101061015_3_DELIVHORIZON', 'Initial Communication and Engagement Plan', 'Documents, reports', 'Deliverable 4.1 \"\"Initial Communication and Engagement Plan\"\" provides the strategy, communication and engagement guidelines with a set of tools and materials to ensure effective communication and a unique project visual identity. Delivered in M6. The deliverable will include the design and use guidelines of: i) website', ' ii) social media accounts on Facebook, Twitter, LinkedIn, Instagram and YouTube to cover scientific, policy, business and civil society domains and their stakeholder groups’ reach', ' iii) press releases, advertorials and web banners in various languages and hosted on news websites to promote the key messages and achievements of the project, raise public awareness about the related issues and increase engagement.It will receive input from Task T4.1. Linked to Task T4.2: Participatory approaches to communication, dissemination & stakeholder engagement.\"\"', '101061015', 'GeneBEcon', 'https://ec.europa.eu/research/participants/documents/downloadPublic?documentIds=080166e5f96fb30f&appId=PPGMS', 'Project deliverable', '2024-08-06 15:04:04', '1142320']\n",
      "Line 6678: ['101061015_9_DELIVHORIZON', 'Report on biosafety data requirements', 'Documents, reports', 'Deliverable 1.1 \"\"Report on biosafety data requirements\"\" is a compliance report based on the EU Directive 2001/18 and National Competent Authority requirements for biosafety that will report the risk assessment of 1) GM microalgae based on the QPS (Qualified Presumption of Safety) pipeline, leading to an EFSA risk evaluation', ' 2) PVY-resistant starch potato following available Competent Authority and EFSA Guidelines. PVY-resistant starch potato. Linked to Task T1.2: Data requirements for biosafety assessment of starch-enhanced, PVY-resistant potatoes and MAA-enhanced microalgae for biobased products under the five governance options\"\"', '101061015', 'GeneBEcon', 'https://ec.europa.eu/research/participants/documents/downloadPublic?documentIds=080166e5095346f7&appId=PPGMS', 'Project deliverable', '2024-08-06 15:04:27', '1142273']\n",
      "Line 8812: ['101061189_7_DELIVHORIZON', 'Activities NitRecerCat 2023', 'Websites, patent fillings, videos etc.', \"Reporting activities of #NitRecerCat (list, participation, most successful activities possible lessons learnt…) delivered 30 days after the Night celebration. They will include:oA complete list of the researchers funded under FP7/Horizon 2020/Horizon Europe, with a specific focus on the Marie Skłodowska-Curie fellows, involved in the event with name, surname and project's grant agreement number\", 'oPromotional/audio-visual material such as: conferences, leaflets, posters, videos to be potentially used by the European Commission for promotional/communication purposes.oFurthermore, a disclaimer  will be visible at the entrance of the event in the national language of the event.\"\"', '101061189', 'NitRecerCat', 'https://ec.europa.eu/research/participants/documents/downloadPublic?documentIds=080166e50e94779f&appId=PPGMS', 'Project deliverable', '2024-07-08 15:44:27', '1127014']\n",
      "DataFrame loaded with 21913 rows.\n",
      "Number of problematic lines: 11\n"
     ]
    }
   ],
   "source": [
    "# Inspect Dataframe\n",
    "# account for problematic lines\n",
    "\n",
    "deliverables_df, problematic_lines = inspect_bad_lines(data_deliverables_path)\n",
    "\n",
    "print(f\"DataFrame loaded with {len(deliverables_df)} rows.\")\n",
    "print(f\"Number of problematic lines: {len(problematic_lines)}\")\n",
    "    "
   ]
  },
  {
   "cell_type": "code",
   "execution_count": 8,
   "metadata": {},
   "outputs": [
    {
     "name": "stdout",
     "output_type": "stream",
     "text": [
      "DataFrame loaded with 21924 rows.\n",
      "Number of problematic lines: 11\n",
      "                          id  \\\n",
      "0  101071179_10_DELIVHORIZON   \n",
      "1   101072491_9_DELIVHORIZON   \n",
      "2   101066116_3_DELIVHORIZON   \n",
      "3  101064988_11_DELIVHORIZON   \n",
      "4  101071179_51_DELIVHORIZON   \n",
      "\n",
      "                                               title  \\\n",
      "0    Technical/scientific review meeting 2 documents   \n",
      "1                            MIRELAI project website   \n",
      "2       Communication, Dissemination & Outreach Plan   \n",
      "3  SINFONICA Knowledge map creation and System Ar...   \n",
      "4                  Report on Portfolio activities 01   \n",
      "\n",
      "                          deliverableType  \\\n",
      "0                      Documents, reports   \n",
      "1  Websites, patent fillings, videos etc.   \n",
      "2                      Documents, reports   \n",
      "3                      Documents, reports   \n",
      "4                      Documents, reports   \n",
      "\n",
      "                                         description  projectID  \\\n",
      "0                     Draft agenda and presentations  101071179   \n",
      "1                            MIRELAI project website  101072491   \n",
      "2  The plan describes the planned measures to max...  101066116   \n",
      "3  The deliverable will be the output of Tasks 4....  101064988   \n",
      "4  The report will present the collaboration acti...  101071179   \n",
      "\n",
      "  projectAcronym                                                url  \\\n",
      "0        SUSTAIN  https://ec.europa.eu/research/participants/doc...   \n",
      "1        MIRELAI  https://ec.europa.eu/research/participants/doc...   \n",
      "2    Ship Clones  https://ec.europa.eu/research/participants/doc...   \n",
      "3      SINFONICA  https://ec.europa.eu/research/participants/doc...   \n",
      "4        SUSTAIN  https://ec.europa.eu/research/participants/doc...   \n",
      "\n",
      "            collection    contentUpdateDate      rcn  \n",
      "0  Project deliverable  2025-02-03 17:40:48  1246973  \n",
      "1  Project deliverable  2025-02-26 08:02:37  1256521  \n",
      "2  Project deliverable  2025-02-03 17:40:42  1246926  \n",
      "3  Project deliverable  2025-02-03 17:40:44  1246937  \n",
      "4  Project deliverable  2025-02-03 17:40:44  1246934  \n",
      "Index(['id', 'title', 'deliverableType', 'description', 'projectID',\n",
      "       'projectAcronym', 'url', 'collection', 'contentUpdateDate', 'rcn'],\n",
      "      dtype='object')\n",
      "id                   object\n",
      "title                object\n",
      "deliverableType      object\n",
      "description          object\n",
      "projectID            object\n",
      "projectAcronym       object\n",
      "url                  object\n",
      "collection           object\n",
      "contentUpdateDate    object\n",
      "rcn                  object\n",
      "dtype: object\n"
     ]
    }
   ],
   "source": [
    "# Try loaoding with the robust CSV rreader\n",
    "data_deliverables = robust_csv_reader(data_deliverables_path)\n",
    "\n",
    "# Check the number of rows in the DataFrame\n",
    "print(f\"DataFrame loaded with {len(data_deliverables)} rows.\")\n",
    "# Check the number of problematic lines\n",
    "print(f\"Number of problematic lines: {len(problematic_lines)}\")\n",
    "# Check the first few rows of the DataFrame\n",
    "print(data_deliverables.head())\n",
    "# Check the columns of the DataFrame\n",
    "print(data_deliverables.columns)\n",
    "# Check the data types of the columns\n",
    "print(data_deliverables.dtypes)\n"
   ]
  },
  {
   "cell_type": "markdown",
   "metadata": {},
   "source": [
    "### Missing values\n",
    "Here we handle the missing values in the dataset"
   ]
  },
  {
   "cell_type": "markdown",
   "metadata": {},
   "source": [
    "We are missing elements in the following columns:\n",
    "- deliverableType\n",
    "    - option 1: change to `'other'`\n",
    "    - option 2: look up individual titles and add manually\n",
    "- description\n",
    "    - option 1: add empty string\n",
    "    - Inspect manually to gain more insight what they exactly represent\n",
    "        - Update: all the titles related to the projects are quite related. I suggest we copy title values into the description column.\n",
    "- url\n",
    "    - 1 missing url. Add the url to the main page of this project (SELFY, id = 101069748_16_DELIVHORIZON) instead of link to deliverable?\n",
    "- rcn\n",
    "    - 1 rcn is missing. \n",
    "    - Looked this number up in publication list based on the projectAcronym = `'GeneBEcon'`. There the rcn number is gives as `1077637.0`\n"
   ]
  },
  {
   "cell_type": "code",
   "execution_count": 9,
   "metadata": {},
   "outputs": [
    {
     "name": "stdout",
     "output_type": "stream",
     "text": [
      "Cleaning deliverables data...\n",
      "Missing values in data_deliverables_cleaned:\n",
      "\n",
      "DeliverableType unique values:\n",
      "['Documents, reports' 'Websites, patent fillings, videos etc.'\n",
      " 'Data Management Plan' 'Other' 'Demonstrators, pilots, prototypes'\n",
      " 'Data sets, microdata, etc' 'Ethics Requirements' '']\n",
      "Cleaned deliverables data saved to c:\\Users\\suley\\Desktop\\ManaMa\\MDA\\EU_Horizon_Dashboard/data/interim\\projectDeliverables_interim.csv\n"
     ]
    }
   ],
   "source": [
    "# Check is the issue still persist\n",
    "from backend.etl.cleaning import clean_deliverables, standardize_columns\n",
    "print(\"Cleaning deliverables data...\")\n",
    "\n",
    "\n",
    "data_deliverables_cleaned = clean_deliverables(data_deliverables)\n",
    "\n",
    "# Check for missing values in data_deliverables\n",
    "print(\"Missing values in data_deliverables_cleaned:\")\n",
    "missing_values = data_deliverables_cleaned.isnull().sum()\n",
    "for col, count in missing_values.items():\n",
    "    if count > 0:\n",
    "        print(f\"  {col}: {count} missing values\")\n",
    "\n",
    "# Check specific issues mentioned previously\n",
    "if 'deliverableType' in data_deliverables_cleaned.columns:\n",
    "    print(\"\\nDeliverableType unique values:\")\n",
    "    print(data_deliverables_cleaned['deliverableType'].unique())\n",
    "    missing_type = data_deliverables_cleaned[data_deliverables_cleaned['deliverableType'].isnull()]\n",
    "    if not missing_type.empty:\n",
    "        print(f\"\\nSample of rows with missing deliverableType ({len(missing_type)} rows):\")\n",
    "        print(missing_type.head())\n",
    "\n",
    "# Check for missing descriptions\n",
    "if 'description' in data_deliverables_cleaned.columns:\n",
    "    missing_desc = data_deliverables_cleaned[data_deliverables_cleaned['description'].isnull()]\n",
    "    if not missing_desc.empty:\n",
    "        print(f\"\\nSample of rows with missing description ({len(missing_desc)} rows):\")\n",
    "        print(missing_desc.head())\n",
    "\n",
    "# Check for missing URLs\n",
    "if 'url' in data_deliverables_cleaned.columns:\n",
    "    missing_url = data_deliverables_cleaned[data_deliverables_cleaned['url'].isnull()]\n",
    "    if not missing_url.empty:\n",
    "        print(f\"\\nSample of rows with missing URL ({len(missing_url)} rows):\")\n",
    "        print(missing_url.head())\n",
    "\n",
    "# Check for missing RCNs\n",
    "if 'rcn' in data_deliverables_cleaned.columns:\n",
    "    missing_rcn = data_deliverables_cleaned[data_deliverables_cleaned['rcn'].isnull()]\n",
    "    if not missing_rcn.empty:\n",
    "        print(f\"\\nSample of rows with missing RCN ({len(missing_rcn)} rows):\")\n",
    "        print(missing_rcn.head())\n",
    "\n",
    "\n",
    "\n",
    "# Save the cleaned DataFrame to a new CSV file\n",
    "cleaned_deliverables_path = os.path.join(interim_dir, 'projectDeliverables_interim.csv')\n",
    "data_deliverables_cleaned.to_csv(cleaned_deliverables_path, index=False, sep=';')\n",
    "print(f\"Cleaned deliverables data saved to {cleaned_deliverables_path}\")"
   ]
  },
  {
   "cell_type": "markdown",
   "metadata": {},
   "source": [
    "## Inspect Publications"
   ]
  },
  {
   "cell_type": "code",
   "execution_count": 10,
   "metadata": {},
   "outputs": [],
   "source": [
    "# Inspect Dataframe\n",
    "data_publications = pd.read_csv(data_publications_path, delimiter=';')\n"
   ]
  },
  {
   "cell_type": "code",
   "execution_count": 11,
   "metadata": {},
   "outputs": [
    {
     "name": "stdout",
     "output_type": "stream",
     "text": [
      "DataFrame loaded with 24150 rows.\n",
      "Number of problematic lines: 0\n"
     ]
    }
   ],
   "source": [
    "publications_df, problematic_lines = inspect_bad_lines(data_publications_path, expected_columns=16)\n",
    "\n",
    "print(f\"DataFrame loaded with {len(publications_df)} rows.\")\n",
    "print(f\"Number of problematic lines: {len(problematic_lines)}\")"
   ]
  },
  {
   "cell_type": "code",
   "execution_count": 12,
   "metadata": {},
   "outputs": [
    {
     "data": {
      "text/html": [
       "<div>\n",
       "<style scoped>\n",
       "    .dataframe tbody tr th:only-of-type {\n",
       "        vertical-align: middle;\n",
       "    }\n",
       "\n",
       "    .dataframe tbody tr th {\n",
       "        vertical-align: top;\n",
       "    }\n",
       "\n",
       "    .dataframe thead th {\n",
       "        text-align: right;\n",
       "    }\n",
       "</style>\n",
       "<table border=\"1\" class=\"dataframe\">\n",
       "  <thead>\n",
       "    <tr style=\"text-align: right;\">\n",
       "      <th></th>\n",
       "      <th>id</th>\n",
       "      <th>title</th>\n",
       "      <th>isPublishedAs</th>\n",
       "      <th>authors</th>\n",
       "      <th>journalTitle</th>\n",
       "      <th>journalNumber</th>\n",
       "      <th>publishedYear</th>\n",
       "      <th>publishedPages</th>\n",
       "      <th>issn</th>\n",
       "      <th>isbn</th>\n",
       "      <th>doi</th>\n",
       "      <th>projectID</th>\n",
       "      <th>projectAcronym</th>\n",
       "      <th>collection</th>\n",
       "      <th>contentUpdateDate</th>\n",
       "      <th>rcn</th>\n",
       "    </tr>\n",
       "  </thead>\n",
       "  <tbody>\n",
       "    <tr>\n",
       "      <th>0</th>\n",
       "      <td>101040480_113381_PUBLIHORIZON</td>\n",
       "      <td>The Microwave Rotational Electric Resonance (R...</td>\n",
       "      <td>Peer reviewed articles</td>\n",
       "      <td>Hamza El Hadki, Kenneth J. Koziol, Oum Keltoum...</td>\n",
       "      <td>Molecules</td>\n",
       "      <td>28</td>\n",
       "      <td>2023</td>\n",
       "      <td></td>\n",
       "      <td>1420-3049</td>\n",
       "      <td></td>\n",
       "      <td>10.3390/molecules28083419</td>\n",
       "      <td>101040480</td>\n",
       "      <td>LACRIDO</td>\n",
       "      <td>Project publication</td>\n",
       "      <td>2025-02-11 11:41:50</td>\n",
       "      <td>1243351</td>\n",
       "    </tr>\n",
       "    <tr>\n",
       "      <th>1</th>\n",
       "      <td>101040480_113371_PUBLIHORIZON</td>\n",
       "      <td>The microwave spectra of the conformers of n-b...</td>\n",
       "      <td>Peer reviewed articles</td>\n",
       "      <td>Susanna L. Stephens, Eléonore Antonelli, Alexa...</td>\n",
       "      <td>Journal of Molecular Spectroscopy</td>\n",
       "      <td>397</td>\n",
       "      <td>2024</td>\n",
       "      <td></td>\n",
       "      <td>0022-2852</td>\n",
       "      <td></td>\n",
       "      <td>10.1016/j.jms.2023.111824</td>\n",
       "      <td>101040480</td>\n",
       "      <td>LACRIDO</td>\n",
       "      <td>Project publication</td>\n",
       "      <td>2025-02-11 11:01:16</td>\n",
       "      <td>1243327</td>\n",
       "    </tr>\n",
       "    <tr>\n",
       "      <th>2</th>\n",
       "      <td>101040480_113383_PUBLIHORIZON</td>\n",
       "      <td>Coupled internal rotations and 14N quadrupole ...</td>\n",
       "      <td>Peer reviewed articles</td>\n",
       "      <td>Mike Barth, Isabelle Kleiner, Ha Vinh Lam Nguyen</td>\n",
       "      <td>The Journal of Chemical Physics</td>\n",
       "      <td>160</td>\n",
       "      <td>2024</td>\n",
       "      <td></td>\n",
       "      <td>0021-9606</td>\n",
       "      <td></td>\n",
       "      <td>10.1063/5.0213319</td>\n",
       "      <td>101040480</td>\n",
       "      <td>LACRIDO</td>\n",
       "      <td>Project publication</td>\n",
       "      <td>2025-02-11 11:40:00</td>\n",
       "      <td>1243350</td>\n",
       "    </tr>\n",
       "    <tr>\n",
       "      <th>3</th>\n",
       "      <td>101040480_113375_PUBLIHORIZON</td>\n",
       "      <td>The Heavy Atom Structure, &lt;i&gt;“cis&lt;/i&gt; effect” ...</td>\n",
       "      <td>Peer reviewed articles</td>\n",
       "      <td>Truong Anh Nguyen, Isabelle Kleiner, Martin Sc...</td>\n",
       "      <td>ChemPhysChem</td>\n",
       "      <td>25</td>\n",
       "      <td>2024</td>\n",
       "      <td></td>\n",
       "      <td>1439-4235</td>\n",
       "      <td></td>\n",
       "      <td>10.1002/cphc.202400387</td>\n",
       "      <td>101040480</td>\n",
       "      <td>LACRIDO</td>\n",
       "      <td>Project publication</td>\n",
       "      <td>2025-02-11 11:11:17</td>\n",
       "      <td>1243343</td>\n",
       "    </tr>\n",
       "    <tr>\n",
       "      <th>4</th>\n",
       "      <td>101040480_113374_PUBLIHORIZON</td>\n",
       "      <td>Structure determination of 2,5-difluorophenol ...</td>\n",
       "      <td>Peer reviewed articles</td>\n",
       "      <td>K.P. Rajappan Nair, Kevin G. Lengsfeld, Philip...</td>\n",
       "      <td>Journal of Molecular Structure</td>\n",
       "      <td>1321</td>\n",
       "      <td>2024</td>\n",
       "      <td></td>\n",
       "      <td>0022-2860</td>\n",
       "      <td></td>\n",
       "      <td>10.1016/j.molstruc.2024.139971</td>\n",
       "      <td>101040480</td>\n",
       "      <td>LACRIDO</td>\n",
       "      <td>Project publication</td>\n",
       "      <td>2025-02-11 11:04:26</td>\n",
       "      <td>1243340</td>\n",
       "    </tr>\n",
       "  </tbody>\n",
       "</table>\n",
       "</div>"
      ],
      "text/plain": [
       "                              id  \\\n",
       "0  101040480_113381_PUBLIHORIZON   \n",
       "1  101040480_113371_PUBLIHORIZON   \n",
       "2  101040480_113383_PUBLIHORIZON   \n",
       "3  101040480_113375_PUBLIHORIZON   \n",
       "4  101040480_113374_PUBLIHORIZON   \n",
       "\n",
       "                                               title           isPublishedAs  \\\n",
       "0  The Microwave Rotational Electric Resonance (R...  Peer reviewed articles   \n",
       "1  The microwave spectra of the conformers of n-b...  Peer reviewed articles   \n",
       "2  Coupled internal rotations and 14N quadrupole ...  Peer reviewed articles   \n",
       "3  The Heavy Atom Structure, <i>“cis</i> effect” ...  Peer reviewed articles   \n",
       "4  Structure determination of 2,5-difluorophenol ...  Peer reviewed articles   \n",
       "\n",
       "                                             authors  \\\n",
       "0  Hamza El Hadki, Kenneth J. Koziol, Oum Keltoum...   \n",
       "1  Susanna L. Stephens, Eléonore Antonelli, Alexa...   \n",
       "2   Mike Barth, Isabelle Kleiner, Ha Vinh Lam Nguyen   \n",
       "3  Truong Anh Nguyen, Isabelle Kleiner, Martin Sc...   \n",
       "4  K.P. Rajappan Nair, Kevin G. Lengsfeld, Philip...   \n",
       "\n",
       "                        journalTitle journalNumber publishedYear  \\\n",
       "0                          Molecules            28          2023   \n",
       "1  Journal of Molecular Spectroscopy           397          2024   \n",
       "2    The Journal of Chemical Physics           160          2024   \n",
       "3                       ChemPhysChem            25          2024   \n",
       "4     Journal of Molecular Structure          1321          2024   \n",
       "\n",
       "  publishedPages       issn isbn                             doi  projectID  \\\n",
       "0                 1420-3049            10.3390/molecules28083419  101040480   \n",
       "1                 0022-2852            10.1016/j.jms.2023.111824  101040480   \n",
       "2                 0021-9606                    10.1063/5.0213319  101040480   \n",
       "3                 1439-4235               10.1002/cphc.202400387  101040480   \n",
       "4                 0022-2860       10.1016/j.molstruc.2024.139971  101040480   \n",
       "\n",
       "  projectAcronym           collection    contentUpdateDate      rcn  \n",
       "0        LACRIDO  Project publication  2025-02-11 11:41:50  1243351  \n",
       "1        LACRIDO  Project publication  2025-02-11 11:01:16  1243327  \n",
       "2        LACRIDO  Project publication  2025-02-11 11:40:00  1243350  \n",
       "3        LACRIDO  Project publication  2025-02-11 11:11:17  1243343  \n",
       "4        LACRIDO  Project publication  2025-02-11 11:04:26  1243340  "
      ]
     },
     "execution_count": 12,
     "metadata": {},
     "output_type": "execute_result"
    }
   ],
   "source": [
    "publications_df.head()"
   ]
  },
  {
   "cell_type": "markdown",
   "metadata": {},
   "source": [
    "### Missing values\n",
    "Here we inspect the missing data in this file, and outline how we are goiing to treat these missing data points"
   ]
  },
  {
   "cell_type": "code",
   "execution_count": 13,
   "metadata": {},
   "outputs": [
    {
     "name": "stdout",
     "output_type": "stream",
     "text": [
      "For key authors:\n",
      "     75 elements are missing.\n",
      "For key journalTitle:\n",
      "     2099 elements are missing.\n",
      "For key journalNumber:\n",
      "     13622 elements are missing.\n",
      "For key publishedPages:\n",
      "     24142 elements are missing.\n",
      "For key issn:\n",
      "     7004 elements are missing.\n",
      "For key isbn:\n",
      "     23219 elements are missing.\n",
      "For key doi:\n",
      "     2293 elements are missing.\n"
     ]
    }
   ],
   "source": [
    "# look for missing values\n",
    "publications_missing = data_publications.isnull()\n",
    "\n",
    "# check which columns are missing data\n",
    "for key in publications_missing.keys():\n",
    "    missing = publications_missing[publications_missing[key] == True]\n",
    "    if len(missing.id) > 0:\n",
    "        print(f'For key {key}:\\n     {len(missing.id)} elements are missing.')"
   ]
  },
  {
   "cell_type": "markdown",
   "metadata": {},
   "source": [
    "There is quite some missing data in this file. Let us go through each line individually.\n",
    "- authors:\n",
    "    - This sucks. Would have been very nice to decompose author strings into single authors and make the connections\n",
    "    - How to treat this: look into the article title string to check whether this one contains more author infromation\n",
    "- journalTitle:\n",
    "    - chack in the publication title. Sometimes there one has just copy-pasted the whole article reference\n",
    "- journalNumber:\n",
    "    - Not the most relevant parameter in my opinion. Just make all NaN zeros\n",
    "- publishedYear:\n",
    "    - Manually look this up\n",
    "- publishedPages:\n",
    "    - Not the most relevant parameter in my opinion. Just make all NaN zeros\n",
    "- issn:\n",
    "    - Not the most relevant parameter in my opinion. Just make all NaN zeros\n",
    "- isbn:\n",
    "    - Not the most relevant parameter in my opinion. Just make all NaN zeros\n",
    "- doi:\n",
    "    - Fuck this, just pass about:blank as url. \n",
    "- rcn:\n",
    "    - Manually adjust this one. \n",
    "        - Update: this entry was missing an entry for authors, all following field shifted 1 column to the left. Manually fixed this one. \n",
    "\n"
   ]
  },
  {
   "cell_type": "markdown",
   "metadata": {},
   "source": [
    "The cell above does give an empty DataFrame. Used it to get the information to look up rcn number in other datasets."
   ]
  },
  {
   "cell_type": "code",
   "execution_count": 14,
   "metadata": {},
   "outputs": [],
   "source": [
    "# test cleaning function"
   ]
  },
  {
   "cell_type": "code",
   "execution_count": 15,
   "metadata": {},
   "outputs": [],
   "source": [
    "# Save to intermediate\n",
    "data_publications.to_csv(f'{interim_dir}/projectPublications_interim.csv', sep=';')"
   ]
  },
  {
   "cell_type": "markdown",
   "metadata": {},
   "source": [
    "# Inspect CORDIS-HORIZON projects data files\n",
    "This is the folder containing some more datasets on the different projects."
   ]
  },
  {
   "cell_type": "markdown",
   "metadata": {},
   "source": [
    "### Define data paths"
   ]
  },
  {
   "cell_type": "code",
   "execution_count": 16,
   "metadata": {},
   "outputs": [],
   "source": [
    "# define file paths\n",
    "SciVoc_path = f'{raw_dir}/euroSciVoc.csv'\n",
    "legalBasis_path = f'{raw_dir}/legalBasis.csv'\n",
    "organization_path = f'{raw_dir}/organization.csv'\n",
    "project_path = f'{raw_dir}/project.csv'\n",
    "topics_path = f'{raw_dir}/topics.csv'\n",
    "webItems_path = f'{raw_dir}/webItem.csv'\n",
    "webLink_path = f'{raw_dir}/webLink.csv'"
   ]
  },
  {
   "cell_type": "code",
   "execution_count": 17,
   "metadata": {},
   "outputs": [],
   "source": [
    "# Import some informative files\n",
    "\n",
    "# load datasets\n",
    "read_csv_options = {\n",
    "    \"delimiter\": \";\",\n",
    "    \"quotechar\": '\"',\n",
    "    \"escapechar\": \"\\\\\",\n",
    "    'doublequote': False,\n",
    "    # \"on_bad_lines\": \"skip\",   # we skip lines that do not import properly for now\n",
    "    \"engine\": \"python\"  # 'python' engine handles complex parsing better\n",
    "}\n"
   ]
  },
  {
   "cell_type": "markdown",
   "metadata": {},
   "source": [
    "## SciVoc dataset"
   ]
  },
  {
   "cell_type": "code",
   "execution_count": 18,
   "metadata": {},
   "outputs": [],
   "source": [
    "# load\n",
    "sci_voc_df = pd.read_csv(SciVoc_path, **read_csv_options)\n",
    "\n",
    "# clean\n",
    "from backend.etl.cleaning import clean_scivoc\n",
    "sci_voc_cleaned = clean_scivoc(sci_voc_df)\n",
    "\n",
    "# save to interim\n",
    "sci_voc_cleaned.to_csv(f'{interim_dir}/euroSciVoc_interim.csv', sep=';')"
   ]
  },
  {
   "cell_type": "code",
   "execution_count": 19,
   "metadata": {},
   "outputs": [
    {
     "data": {
      "text/html": [
       "<div>\n",
       "<style scoped>\n",
       "    .dataframe tbody tr th:only-of-type {\n",
       "        vertical-align: middle;\n",
       "    }\n",
       "\n",
       "    .dataframe tbody tr th {\n",
       "        vertical-align: top;\n",
       "    }\n",
       "\n",
       "    .dataframe thead th {\n",
       "        text-align: right;\n",
       "    }\n",
       "</style>\n",
       "<table border=\"1\" class=\"dataframe\">\n",
       "  <thead>\n",
       "    <tr style=\"text-align: right;\">\n",
       "      <th></th>\n",
       "      <th>projectID</th>\n",
       "      <th>euroSciVocCode</th>\n",
       "      <th>euroSciVocPath</th>\n",
       "      <th>euroSciVocTitle</th>\n",
       "      <th>euroSciVocDescription</th>\n",
       "    </tr>\n",
       "  </thead>\n",
       "  <tbody>\n",
       "    <tr>\n",
       "      <th>0</th>\n",
       "      <td>101159220</td>\n",
       "      <td>/21/33/121/621</td>\n",
       "      <td>/medical and health sciences/health sciences/i...</td>\n",
       "      <td>malaria</td>\n",
       "      <td>NaN</td>\n",
       "    </tr>\n",
       "    <tr>\n",
       "      <th>1</th>\n",
       "      <td>101159220</td>\n",
       "      <td>/23/49/315/997/1613</td>\n",
       "      <td>/natural sciences/biological sciences/biochemi...</td>\n",
       "      <td>proteins</td>\n",
       "      <td>NaN</td>\n",
       "    </tr>\n",
       "    <tr>\n",
       "      <th>2</th>\n",
       "      <td>101093997</td>\n",
       "      <td>/23/49/315/997/1611</td>\n",
       "      <td>/natural sciences/biological sciences/biochemi...</td>\n",
       "      <td>carbohydrates</td>\n",
       "      <td>NaN</td>\n",
       "    </tr>\n",
       "    <tr>\n",
       "      <th>3</th>\n",
       "      <td>101126531</td>\n",
       "      <td>/23/49/341/325</td>\n",
       "      <td>/natural sciences/biological sciences/microbio...</td>\n",
       "      <td>virology</td>\n",
       "      <td>NaN</td>\n",
       "    </tr>\n",
       "    <tr>\n",
       "      <th>4</th>\n",
       "      <td>101126531</td>\n",
       "      <td>/21/33/121/44109686/8132740</td>\n",
       "      <td>/medical and health sciences/health sciences/i...</td>\n",
       "      <td>coronaviruses</td>\n",
       "      <td>NaN</td>\n",
       "    </tr>\n",
       "    <tr>\n",
       "      <th>...</th>\n",
       "      <td>...</td>\n",
       "      <td>...</td>\n",
       "      <td>...</td>\n",
       "      <td>...</td>\n",
       "      <td>...</td>\n",
       "    </tr>\n",
       "    <tr>\n",
       "      <th>34607</th>\n",
       "      <td>101112145</td>\n",
       "      <td>/21/35/153/22901471/633</td>\n",
       "      <td>/medical and health sciences/basic medicine/ne...</td>\n",
       "      <td>alzheimer</td>\n",
       "      <td>NaN</td>\n",
       "    </tr>\n",
       "    <tr>\n",
       "      <th>34608</th>\n",
       "      <td>101112145</td>\n",
       "      <td>/29/101/553/1353</td>\n",
       "      <td>/social sciences/sociology/demography/mortality</td>\n",
       "      <td>mortality</td>\n",
       "      <td>NaN</td>\n",
       "    </tr>\n",
       "    <tr>\n",
       "      <th>34609</th>\n",
       "      <td>101057477</td>\n",
       "      <td>/29/91/521/1299/1757</td>\n",
       "      <td>/social sciences/economics and business/econom...</td>\n",
       "      <td>productivity</td>\n",
       "      <td>NaN</td>\n",
       "    </tr>\n",
       "    <tr>\n",
       "      <th>34610</th>\n",
       "      <td>101134907</td>\n",
       "      <td>/21/39/195</td>\n",
       "      <td>/medical and health sciences/clinical medicine...</td>\n",
       "      <td>paediatrics</td>\n",
       "      <td>NaN</td>\n",
       "    </tr>\n",
       "    <tr>\n",
       "      <th>34611</th>\n",
       "      <td>101095483</td>\n",
       "      <td>/21/39/225</td>\n",
       "      <td>/medical and health sciences/clinical medicine...</td>\n",
       "      <td>oncology</td>\n",
       "      <td>NaN</td>\n",
       "    </tr>\n",
       "  </tbody>\n",
       "</table>\n",
       "<p>34612 rows × 5 columns</p>\n",
       "</div>"
      ],
      "text/plain": [
       "       projectID               euroSciVocCode  \\\n",
       "0      101159220               /21/33/121/621   \n",
       "1      101159220          /23/49/315/997/1613   \n",
       "2      101093997          /23/49/315/997/1611   \n",
       "3      101126531               /23/49/341/325   \n",
       "4      101126531  /21/33/121/44109686/8132740   \n",
       "...          ...                          ...   \n",
       "34607  101112145      /21/35/153/22901471/633   \n",
       "34608  101112145             /29/101/553/1353   \n",
       "34609  101057477         /29/91/521/1299/1757   \n",
       "34610  101134907                   /21/39/195   \n",
       "34611  101095483                   /21/39/225   \n",
       "\n",
       "                                          euroSciVocPath euroSciVocTitle  \\\n",
       "0      /medical and health sciences/health sciences/i...         malaria   \n",
       "1      /natural sciences/biological sciences/biochemi...        proteins   \n",
       "2      /natural sciences/biological sciences/biochemi...   carbohydrates   \n",
       "3      /natural sciences/biological sciences/microbio...        virology   \n",
       "4      /medical and health sciences/health sciences/i...   coronaviruses   \n",
       "...                                                  ...             ...   \n",
       "34607  /medical and health sciences/basic medicine/ne...       alzheimer   \n",
       "34608    /social sciences/sociology/demography/mortality       mortality   \n",
       "34609  /social sciences/economics and business/econom...    productivity   \n",
       "34610  /medical and health sciences/clinical medicine...     paediatrics   \n",
       "34611  /medical and health sciences/clinical medicine...        oncology   \n",
       "\n",
       "       euroSciVocDescription  \n",
       "0                        NaN  \n",
       "1                        NaN  \n",
       "2                        NaN  \n",
       "3                        NaN  \n",
       "4                        NaN  \n",
       "...                      ...  \n",
       "34607                    NaN  \n",
       "34608                    NaN  \n",
       "34609                    NaN  \n",
       "34610                    NaN  \n",
       "34611                    NaN  \n",
       "\n",
       "[34612 rows x 5 columns]"
      ]
     },
     "execution_count": 19,
     "metadata": {},
     "output_type": "execute_result"
    }
   ],
   "source": [
    "sci_voc_df"
   ]
  },
  {
   "cell_type": "code",
   "execution_count": 20,
   "metadata": {},
   "outputs": [],
   "source": [
    "sci_paths = (\n",
    "            sci_voc_df\n",
    "            .groupby('projectID')['euroSciVocPath']\n",
    "            .apply(list)\n",
    "            .reset_index(name='sci_voc_paths')\n",
    "        )"
   ]
  },
  {
   "cell_type": "code",
   "execution_count": 21,
   "metadata": {},
   "outputs": [
    {
     "data": {
      "text/html": [
       "<div>\n",
       "<style scoped>\n",
       "    .dataframe tbody tr th:only-of-type {\n",
       "        vertical-align: middle;\n",
       "    }\n",
       "\n",
       "    .dataframe tbody tr th {\n",
       "        vertical-align: top;\n",
       "    }\n",
       "\n",
       "    .dataframe thead th {\n",
       "        text-align: right;\n",
       "    }\n",
       "</style>\n",
       "<table border=\"1\" class=\"dataframe\">\n",
       "  <thead>\n",
       "    <tr style=\"text-align: right;\">\n",
       "      <th></th>\n",
       "      <th>projectID</th>\n",
       "      <th>sci_voc_paths</th>\n",
       "    </tr>\n",
       "  </thead>\n",
       "  <tbody>\n",
       "  </tbody>\n",
       "</table>\n",
       "</div>"
      ],
      "text/plain": [
       "Empty DataFrame\n",
       "Columns: [projectID, sci_voc_paths]\n",
       "Index: []"
      ]
     },
     "execution_count": 21,
     "metadata": {},
     "output_type": "execute_result"
    }
   ],
   "source": [
    "missing = sci_paths['sci_voc_paths'].isna()\n",
    "sci_paths[missing]"
   ]
  },
  {
   "cell_type": "code",
   "execution_count": 22,
   "metadata": {},
   "outputs": [
    {
     "data": {
      "text/html": [
       "<div>\n",
       "<style scoped>\n",
       "    .dataframe tbody tr th:only-of-type {\n",
       "        vertical-align: middle;\n",
       "    }\n",
       "\n",
       "    .dataframe tbody tr th {\n",
       "        vertical-align: top;\n",
       "    }\n",
       "\n",
       "    .dataframe thead th {\n",
       "        text-align: right;\n",
       "    }\n",
       "</style>\n",
       "<table border=\"1\" class=\"dataframe\">\n",
       "  <thead>\n",
       "    <tr style=\"text-align: right;\">\n",
       "      <th></th>\n",
       "      <th>projectID</th>\n",
       "      <th>sci_voc_paths</th>\n",
       "    </tr>\n",
       "  </thead>\n",
       "  <tbody>\n",
       "    <tr>\n",
       "      <th>0</th>\n",
       "      <td>101039048</td>\n",
       "      <td>/natural sciences/chemical sciences/inorganic ...</td>\n",
       "    </tr>\n",
       "    <tr>\n",
       "      <th>0</th>\n",
       "      <td>101039048</td>\n",
       "      <td>/natural sciences/physical sciences/theoretica...</td>\n",
       "    </tr>\n",
       "    <tr>\n",
       "      <th>1</th>\n",
       "      <td>101039060</td>\n",
       "      <td>/humanities/history and archaeology/history/pr...</td>\n",
       "    </tr>\n",
       "    <tr>\n",
       "      <th>1</th>\n",
       "      <td>101039060</td>\n",
       "      <td>/natural sciences/computer and information sci...</td>\n",
       "    </tr>\n",
       "    <tr>\n",
       "      <th>1</th>\n",
       "      <td>101039060</td>\n",
       "      <td>/medical and health sciences/health sciences/n...</td>\n",
       "    </tr>\n",
       "    <tr>\n",
       "      <th>...</th>\n",
       "      <td>...</td>\n",
       "      <td>...</td>\n",
       "    </tr>\n",
       "    <tr>\n",
       "      <th>13527</th>\n",
       "      <td>190199469</td>\n",
       "      <td>/engineering and technology/nanotechnology</td>\n",
       "    </tr>\n",
       "    <tr>\n",
       "      <th>13527</th>\n",
       "      <td>190199469</td>\n",
       "      <td>/medical and health sciences/clinical medicine...</td>\n",
       "    </tr>\n",
       "    <tr>\n",
       "      <th>13528</th>\n",
       "      <td>190199874</td>\n",
       "      <td>/natural sciences/biological sciences/genetics</td>\n",
       "    </tr>\n",
       "    <tr>\n",
       "      <th>13528</th>\n",
       "      <td>190199874</td>\n",
       "      <td>/natural sciences/biological sciences/microbio...</td>\n",
       "    </tr>\n",
       "    <tr>\n",
       "      <th>13528</th>\n",
       "      <td>190199874</td>\n",
       "      <td>/natural sciences/earth and related environmen...</td>\n",
       "    </tr>\n",
       "  </tbody>\n",
       "</table>\n",
       "<p>34612 rows × 2 columns</p>\n",
       "</div>"
      ],
      "text/plain": [
       "       projectID                                      sci_voc_paths\n",
       "0      101039048  /natural sciences/chemical sciences/inorganic ...\n",
       "0      101039048  /natural sciences/physical sciences/theoretica...\n",
       "1      101039060  /humanities/history and archaeology/history/pr...\n",
       "1      101039060  /natural sciences/computer and information sci...\n",
       "1      101039060  /medical and health sciences/health sciences/n...\n",
       "...          ...                                                ...\n",
       "13527  190199469         /engineering and technology/nanotechnology\n",
       "13527  190199469  /medical and health sciences/clinical medicine...\n",
       "13528  190199874     /natural sciences/biological sciences/genetics\n",
       "13528  190199874  /natural sciences/biological sciences/microbio...\n",
       "13528  190199874  /natural sciences/earth and related environmen...\n",
       "\n",
       "[34612 rows x 2 columns]"
      ]
     },
     "execution_count": 22,
     "metadata": {},
     "output_type": "execute_result"
    }
   ],
   "source": [
    "sci_paths.explode('sci_voc_paths')"
   ]
  },
  {
   "cell_type": "markdown",
   "metadata": {},
   "source": [
    "## organization dataset"
   ]
  },
  {
   "cell_type": "code",
   "execution_count": 23,
   "metadata": {},
   "outputs": [
    {
     "name": "stdout",
     "output_type": "stream",
     "text": [
      "Standardized column names:\n",
      "Index(['projectID', 'projectAcronym', 'organisationID', 'vatNumber', 'name',\n",
      "       'shortName', 'SME', 'activityType', 'street', 'postCode', 'city',\n",
      "       'country', 'nutsCode', 'geolocation', 'organizationURL', 'contactForm',\n",
      "       'contentUpdateDate', 'rcn', 'order', 'role', 'ecContribution',\n",
      "       'netEcContribution', 'totalCost', 'endOfParticipation', 'active'],\n",
      "      dtype='object')\n",
      "Dropped 101153 rows with missing organization ID.\n"
     ]
    },
    {
     "name": "stderr",
     "output_type": "stream",
     "text": [
      "c:\\Users\\suley\\Desktop\\ManaMa\\MDA\\EU_Horizon_Dashboard\\backend\\etl\\cleaning.py:49: UserWarning: The argument 'infer_datetime_format' is deprecated and will be removed in a future version. A strict version of it is now the default, see https://pandas.pydata.org/pdeps/0004-consistent-to-datetime-parsing.html. You can safely remove this argument.\n",
      "  return pd.to_datetime(series, errors='coerce', infer_datetime_format=True)\n"
     ]
    }
   ],
   "source": [
    "# load\n",
    "organization_df = pd.read_csv(organization_path, delimiter=';')\n",
    "\n",
    "\n",
    "# clean\n",
    "from backend.etl.cleaning import clean_organization, standardize_columns\n",
    "# Print the standardized column names\n",
    "print(\"Standardized column names:\")\n",
    "print(organization_df.columns)\n",
    "organization_cleaned = clean_organization(organization_df)\n",
    "\n",
    "# save to interim\n",
    "organization_cleaned.to_csv(f'{interim_dir}/organization_interim.csv', sep=';')"
   ]
  },
  {
   "cell_type": "markdown",
   "metadata": {},
   "source": [
    "## topics dataset"
   ]
  },
  {
   "cell_type": "code",
   "execution_count": 24,
   "metadata": {},
   "outputs": [],
   "source": [
    "# load\n",
    "topics_df = pd.read_csv(topics_path, **read_csv_options)\n",
    "\n",
    "# clean\n",
    "from backend.etl.cleaning import clean_topics\n",
    "topics_cleaned = clean_topics(topics_df)\n",
    "\n",
    "# save to interim\n",
    "topics_cleaned.to_csv(f'{interim_dir}/topics_interim.csv', sep=';')"
   ]
  },
  {
   "cell_type": "markdown",
   "metadata": {},
   "source": [
    "## Legal Basis dataset"
   ]
  },
  {
   "cell_type": "code",
   "execution_count": 25,
   "metadata": {},
   "outputs": [],
   "source": [
    "# load\n",
    "legal_basis_df = pd.read_csv(legalBasis_path, **read_csv_options)\n",
    "\n",
    "# clean\n",
    "from backend.etl.cleaning import clean_legalbasis, standardize_columns\n",
    "legal_basis_cleaned = clean_legalbasis(legal_basis_df)\n",
    "\n",
    "# save to interim\n",
    "legal_basis_cleaned.to_csv(f'{interim_dir}/legalBasis_interim.csv', sep=';')"
   ]
  },
  {
   "cell_type": "markdown",
   "metadata": {},
   "source": [
    "## webItem / webLink dataset"
   ]
  },
  {
   "cell_type": "code",
   "execution_count": 26,
   "metadata": {},
   "outputs": [],
   "source": [
    "# load\n",
    "web_items_df = pd.read_csv(webItems_path, **read_csv_options)\n",
    "web_link_df = pd.read_csv(webLink_path, **read_csv_options)\n",
    "\n",
    "# clean\n",
    "\n",
    "from backend.etl.cleaning import clean_webitem, clean_weblink\n",
    "web_items_cleaned = clean_webitem(web_items_df)\n",
    "web_link_cleaned = clean_weblink(web_link_df)\n",
    "\n",
    "# save to interim\n",
    "web_items_cleaned.to_csv(f'{interim_dir}/webItems_interim.csv', sep=';')\n",
    "web_link_cleaned.to_csv(f'{interim_dir}/webLink_interim.csv', sep=';')"
   ]
  },
  {
   "cell_type": "markdown",
   "metadata": {},
   "source": [
    "## projects dataset"
   ]
  },
  {
   "cell_type": "code",
   "execution_count": 27,
   "metadata": {},
   "outputs": [
    {
     "name": "stdout",
     "output_type": "stream",
     "text": [
      "Found 127 problematic lines. Displaying the first 5:\n",
      "Line 11: ['101114248', 'ELIA', 'CLOSED', 'Elia - Smart Assistant for English Learning', '2023-07-01', '2024-06-30', '0', '75000', 'HORIZON.3.2', 'HORIZON-EIE-2022-SCALEUP-02-02', '2023-06-05', 'HORIZON', 'HORIZON-EIE-2022-SCALEUP-02', 'HORIZON-EIE-2022-SCALEUP-02', 'HORIZON-CSA', '', \"We are a startup founded exclusively by women holding the top positions CEO and CTO. Our vision is to reduce inequalities by helping people own their English. That's why we created a personal assistant – Elia. Elia is a tool for busy professionals or swamped students struggling with their English. It connects English learning to their daily activities, e.g. writing an email at work\", ' watching videos on YouTube', ' or reading an article for a biology class. Because learning that is personalised and in context has been found to be the most effective form of learning. Elia started as a PhD project. Hence it\\'s based on insights from cognitive linguistics and developed using machine learning and natural language processing techniques. We presented it at conferences in Berkeley and Cambridge. The first demo version of Elia was launched at German universities in January 2022. Currently it has over 1600 users. We are about to close partnerships with two private language school and two student organisations: ISIC France and Spain. Since January, we have been working on improving the product to reach product-market fit. We reduced the churn rate (install to uninstall) from 19%  to 4% and increased the conversion rate (website to install) from 11% to 24%. Currently, 34% of users would be very disappointed if they could no longer use Elia. We are on our way to achieving product-market fit.We need the support of this grant, both financial and mentoring, to help us 1) reach the product-market-fit, 2) help us extend our partnerships and user base, 3) buy us time to find a venture capital investor. According to the Female Startup-Up Funding Index, \"\"In Austria, 0% of startups who raised money in the first half of 2022 have all-female founding teams and women make up 7% of the 174 founders who received funding.\"\" The numbers are no different elsewhere. Help us change these numbers. We are an all-female founding team. We could boost the \"\"0%\"\" number. But we need your help.\"\"', '2023-08-29 01:53:34', '253006', '10.3030/101114248']\n",
      "Line 24: ['101080692', 'FLUniversal', 'SIGNED', 'Intranasal, rapid-acting vaccine for all seasonal and pandemic influenza viruses', '2023-06-01', '2027-05-31', '7567787,5', '7567787,5', 'HORIZON.2.1', 'HORIZON-HLTH-2022-DISEASE-06-03-two-stage', '2023-05-08', 'HORIZON', 'HORIZON-HLTH-2022-DISEASE-06-two-stage', 'HORIZON-HLTH-2022-DISEASE-06-two-stage', 'HORIZON-RIA', '', 'Researchers worldwide have been working to develop a universal flu vaccine, but no breakthrough has yet been achieved. FLUniversal is not \"\"another costly universal flu project\"\". It is an opportunity to create a genuine universal flu vaccine that will set the standard for rapid, efficient vaccine development, and generate know-how and tools to develop next-generation vaccines. We plan to exploit our increased understanding of molecular mechanisms of influenza infection and immunity to develop a vaccine effective against all flu virus strains. Our innovation uses genetically modified flu strains administered intranasally in a prime-boost regimen. This approach rapidly induces interferon and broadly cross-neutralising antibodies in the nasal passages and a systemic immune response directed to the conserved HA stalk. Proof of concept for universal protection was demonstrated in the ferret', ' we propose now to show proof of concept in humans. Previous clinical studies established safety and immunogenicity in humans. The strains are efficiently produced in Vero cells. FLUniversal\\'s objectives align with the Expected Outcomes: comprehensive immunological assessment of preclinical models, development of a human challenge model, and assisting healthcare stakeholders’ decision-making about support for vaccine development. Consortium members’ world-leading expertise in preclinical models, clinical trials, immunology and validated assays will provide valuable insights on mechanisms of protection. Proposed clinical studies will provide crucial clinical proof of concept to advance the vaccine toward commercialisation.\"\"', '2023-06-28 16:54:09', '251023', '10.3030/101080692']\n",
      "Line 80: ['101113669', 'Pinova WTS Startup', 'CLOSED', 'Commercialization Pinova, a welfare technology start-up', '2023-06-01', '2024-02-29', '0', '75000', 'HORIZON.3.2', 'HORIZON-EIE-2022-SCALEUP-02-02', '2023-05-26', 'HORIZON', 'HORIZON-EIE-2022-SCALEUP-02', 'HORIZON-EIE-2022-SCALEUP-02', 'HORIZON-CSA', '', 'Our innovation addresses the societal challenge and market opportunity the ageing of the European population represents. Our innovation makes it possible to continue live safely at home for an extended period, despite age-related functional and mental impairment (UN Sustainable Development Goal #3).Using a non-intrusive system of sensors, algorithms, and artificial intelligence we identify incidents in elderly’s homes. With activity out-of-the-ordinary their loved ones automatically get alerted by a digital generated phone call, explaining the incident. Our innovation is user friendly', ' no alarm button, application or video surveillance is necessary. We want to penetrate the consumer marked with affordable welfare technology solutions. We are disrupting the industry with deep tech innovations and by using easily accessible sensor technology in a rapid growing market.  The current stage of our innovation is testing the beta-version in private homes. After the test period the greatest challenge for our startup and innovation is commercialization and market growth. By participating in The Woman Tech EU program, we aim at bringing our startup closer to commercialization, making proof of concept, product-marked-fit and go-to-market-strategy. The program will be a valued partner pursuing our goals. We believe that mentors from the program will be an important contribution in knowhow of business development. The opportunity to build an international network of experienced mentors and founders will both be inspirational and important. This program will also give us the opportunity to speed up activities.I’m an experienceI’m an experienced top-level manager, especially within organizational development, operations, and corporate finance, all at a national business level. Consequently, coaching and mentoring in marketing, growth strategy, and business development into international market would be of utmost value to me personally, and of great importance for Pinova.  \"\"', '2023-06-28 17:05:53', '251252', '10.3030/101113669']\n",
      "Line 97: ['101071747', 'InC', 'CLOSED', 'Innovative nanostructured aluminium composite', '2022-06-01', '2023-05-31', '0', '75000', 'HORIZON.3.2', 'HORIZON-EIE-2021-SCALEUP-01-03', '2022-05-25', 'HORIZON', 'HORIZON-EIE-2021-SCALEUP-01', 'HORIZON-EIE-2021-SCALEUP-01', 'HORIZON-CSA', '', \"Innovative nanostructured Aluminium composite. A constant goal in almost all areas of electronics is miniaturization. Miniaturization leads to a reduction in strip thicknesses and places ever higher demands on materials in terms of strength, conductivity, and formability. The trend towards transmitting higher currents goes hand in hand with higher demands on the base material. A key requirement for materials is thermal relaxation resistance, which enables it to maintain spring forces and transmit currents.Soluterials goal is to develop, produce and to offer nano-structured lightweight materials. Based on Ms. Kasakewitsch's scientific work and doctoral thesis, we developed a nanostructured aluminium material InC and transferred the production process from laboratory to pilot industrial scale. InC is the material that meets contemporary requirements and sets the course for the future.  It’s a key enabling technology that will lead to far-reaching developments in downstream industries. The material properties are needed in all future industries, such as e-mobility, 5G, and electronics. For example, electrical conductors such as high-voltage cables could be constructed as self-supporting materials in future\", ' in e-mobility, e-motors could be radically miniaturised.  InC opens up completely new possibilities for the miniaturisation of electrical components. In addition, like aluminium, InC can be produced cost-effectively on established production lines in one process step.Soluterials is a \"\"game-changer\"\" in a multipurpose metal design (our customers can streamline their production by using only one instead of several metals/alloys for their different products/applications). Soluterials is a knowledge provider, as we help our customers to develop new benefits and products with InC.\"\"', '2022-08-16 17:24:48', '239585', '10.3030/101071747']\n",
      "Line 220: ['101187327', 'OBICODE', 'SIGNED', 'Biocultural Transmissions of Obesity across Generations in the Digital Era', '2025-03-01', '2030-02-28', '0', '2499991,07', 'HORIZON.4.1', 'HORIZON-WIDERA-2023-TALENTS-01-01', '2024-10-29', 'HORIZON', 'HORIZON-WIDERA-2023-TALENTS-01', 'HORIZON-WIDERA-2023-TALENTS-01', 'HORIZON-CSA', '', 'OBICODE aims to significantly improve the research performance of the University of Coimbra (Portugal) by implementing a robust interdisciplinary research line in the field of Anthropology. It will do so under the leadership of one of the most respected and highly cited researchers in the field, Professor Stanley Ulijaszek, Emeritus Professor at the University of Oxford (#1 in Anthropology, QS ranking) and Director of the Biocultural Variation and Obesity Unit (UBVO).OBICODE will use the holism principle of Anthropology to develop and test an integration model of the social origins of obesity within and across generations, under the influence of the digital ecosystem, including web 2.0, and translate it into policy and intervention messages. Other objectives include: a) implement a Doctoral Programme on Integrative Models of Obesity', \" b) establish a Life course Obesity Observatory and c) reinforce citizens' scientific and health literacy under a new contemporary societal framework of Anthropology, encompassing an integrative and biocultural perspective of obesity.OBICODE will promote an institutional reform that aligns the University of Coimbra with cutting-edge anthropological research provided by Anthropology Departments/Centres in non-widening European countries. To achieve this goal, the institutional reform under OBICODE will focus on: 1) attracting talents in the area of Anthropology\", ' 2) improving research and education, by providing top notch training in an area that is central for resolving complex societal challenges such as obesity', ' and 3) bringing these scientific outputs to society. Overall, the scope of this action extends to the whole system: academia, target users (e.g., students), and the wider community, including policy and intervention. A team of prestigious and influential Anthropologists will advise on the different steps of the project, providing also a clear view for the future of Obesity studies.\"\"', '2024-11-08 14:34:31', '267247', '10.3030/101187327']\n",
      "DataFrame loaded with 15736 rows.\n",
      "Number of problematic lines: 127\n"
     ]
    }
   ],
   "source": [
    "project_df, problematic_lines = inspect_bad_lines(project_path, expected_columns=20)\n",
    "\n",
    "print(f\"DataFrame loaded with {len(project_df)} rows.\")\n",
    "print(f\"Number of problematic lines: {len(problematic_lines)}\")"
   ]
  },
  {
   "cell_type": "code",
   "execution_count": 28,
   "metadata": {},
   "outputs": [],
   "source": [
    "project_df = robust_csv_reader(project_path, expected_columns=20, problematic_column=14)"
   ]
  },
  {
   "cell_type": "code",
   "execution_count": 29,
   "metadata": {},
   "outputs": [
    {
     "name": "stderr",
     "output_type": "stream",
     "text": [
      "c:\\Users\\suley\\Desktop\\ManaMa\\MDA\\EU_Horizon_Dashboard\\backend\\etl\\cleaning.py:49: UserWarning: The argument 'infer_datetime_format' is deprecated and will be removed in a future version. A strict version of it is now the default, see https://pandas.pydata.org/pdeps/0004-consistent-to-datetime-parsing.html. You can safely remove this argument.\n",
      "  return pd.to_datetime(series, errors='coerce', infer_datetime_format=True)\n",
      "c:\\Users\\suley\\Desktop\\ManaMa\\MDA\\EU_Horizon_Dashboard\\backend\\etl\\cleaning.py:49: UserWarning: The argument 'infer_datetime_format' is deprecated and will be removed in a future version. A strict version of it is now the default, see https://pandas.pydata.org/pdeps/0004-consistent-to-datetime-parsing.html. You can safely remove this argument.\n",
      "  return pd.to_datetime(series, errors='coerce', infer_datetime_format=True)\n"
     ]
    }
   ],
   "source": [
    "# clean the dataset\n",
    "from backend.etl.cleaning import clean_project\n",
    "project_cleaned = clean_project(project_df)"
   ]
  },
  {
   "cell_type": "code",
   "execution_count": 30,
   "metadata": {},
   "outputs": [],
   "source": [
    "# save the dataframe to interim folder\n",
    "project_df.to_csv(f'{interim_dir}/project_interim.csv', sep=';')"
   ]
  },
  {
   "cell_type": "markdown",
   "metadata": {},
   "source": [
    "## Construct functions to access cleaned data\n",
    "\n",
    "We now define some functions that allow easy access to all aspects of different projects. \n"
   ]
  },
  {
   "cell_type": "markdown",
   "metadata": {},
   "source": [
    "- Merge datasets into one object\n",
    "- Standardize column names => they are compatible\n",
    "- Create function that allow access to project-specific data:\n",
    "    - function argument: project name / acronym / identifier\n",
    "    - function output: data class with project information as attributes\n",
    "    - Or: approach this from a class init perspective\n",
    "\n",
    "Find some way to pass load datasets\n",
    "apply class on this, without having to load the full dataset each time we initialize the class\n"
   ]
  },
  {
   "cell_type": "code",
   "execution_count": 31,
   "metadata": {},
   "outputs": [
    {
     "name": "stdout",
     "output_type": "stream",
     "text": [
      "Enriching the projects dataset with temporal information.\n",
      "Enriching the projects dataset with people and institutions information.\n",
      "Enriching the projects dataset with financial information.\n",
      "Enriching the projects dataset with thematic / scientific information.\n",
      "['projectID', 'projectAcronym', 'organisationID', 'vatNumber', 'name', 'shortName', 'SME', 'activityType', 'street', 'postCode', 'city', 'country', 'nutsCode', 'geolocation', 'organizationURL', 'contactForm', 'contentUpdateDate', 'rcn', 'order', 'role', 'ecContribution', 'netEcContribution', 'totalCost', 'endOfParticipation', 'active']\n"
     ]
    }
   ],
   "source": [
    "import sys\n",
    "import os\n",
    "from pathlib import Path\n",
    "\n",
    "# Add the project root directory to sys.path so absolute imports work\n",
    "\n",
    "\n",
    "from backend.classes import CORDIS_data\n",
    "\n",
    "parent_dir = project_root\n",
    "Data_structure = CORDIS_data(parent_dir, enrich=True)\n",
    "\n",
    "# print organization_cleaned\n",
    "print(Data_structure.organization_df.columns.tolist())"
   ]
  },
  {
   "cell_type": "code",
   "execution_count": 32,
   "metadata": {},
   "outputs": [
    {
     "data": {
      "text/html": [
       "<div>\n",
       "<style scoped>\n",
       "    .dataframe tbody tr th:only-of-type {\n",
       "        vertical-align: middle;\n",
       "    }\n",
       "\n",
       "    .dataframe tbody tr th {\n",
       "        vertical-align: top;\n",
       "    }\n",
       "\n",
       "    .dataframe thead th {\n",
       "        text-align: right;\n",
       "    }\n",
       "</style>\n",
       "<table border=\"1\" class=\"dataframe\">\n",
       "  <thead>\n",
       "    <tr style=\"text-align: right;\">\n",
       "      <th></th>\n",
       "      <th>id</th>\n",
       "      <th>acronym</th>\n",
       "      <th>status</th>\n",
       "      <th>title</th>\n",
       "      <th>startDate</th>\n",
       "      <th>endDate</th>\n",
       "      <th>totalCost</th>\n",
       "      <th>ecMaxContribution</th>\n",
       "      <th>legalBasis</th>\n",
       "      <th>topics</th>\n",
       "      <th>...</th>\n",
       "      <th>projectID_y</th>\n",
       "      <th>institutions</th>\n",
       "      <th>projectID</th>\n",
       "      <th>coordinator_name</th>\n",
       "      <th>ecContribution_per_year</th>\n",
       "      <th>totalCost_per_year</th>\n",
       "      <th>field_class</th>\n",
       "      <th>field</th>\n",
       "      <th>subfield</th>\n",
       "      <th>niche</th>\n",
       "    </tr>\n",
       "  </thead>\n",
       "  <tbody>\n",
       "    <tr>\n",
       "      <th>0</th>\n",
       "      <td>101159220</td>\n",
       "      <td>PvSeroRDT</td>\n",
       "      <td>SIGNED</td>\n",
       "      <td>A point-of-care serological rapid diagnostic t...</td>\n",
       "      <td>2025-02-01</td>\n",
       "      <td>2030-01-31</td>\n",
       "      <td>NaN</td>\n",
       "      <td>NaN</td>\n",
       "      <td>HORIZON.2.1</td>\n",
       "      <td>HORIZON-JU-GH-EDCTP3-2023-02-02-two-stage</td>\n",
       "      <td>...</td>\n",
       "      <td>101159220</td>\n",
       "      <td>[Institut Pasteur de Madagascar, INSTITUT PAST...</td>\n",
       "      <td>101159220</td>\n",
       "      <td>INSTITUT PASTEUR</td>\n",
       "      <td>NaN</td>\n",
       "      <td>NaN</td>\n",
       "      <td>[medical and health sciences, natural sciences]</td>\n",
       "      <td>[biological sciences, health sciences]</td>\n",
       "      <td>[infectious diseases, biochemistry]</td>\n",
       "      <td>[biomolecules, malaria]</td>\n",
       "    </tr>\n",
       "    <tr>\n",
       "      <th>1</th>\n",
       "      <td>101096150</td>\n",
       "      <td>BIOBoost</td>\n",
       "      <td>SIGNED</td>\n",
       "      <td>Boosting innovation agencies for bioeconomy va...</td>\n",
       "      <td>2023-02-01</td>\n",
       "      <td>2025-01-31</td>\n",
       "      <td>0.0</td>\n",
       "      <td>500000.0</td>\n",
       "      <td>HORIZON.3.2</td>\n",
       "      <td>HORIZON-EIE-2022-CONNECT-01-01</td>\n",
       "      <td>...</td>\n",
       "      <td>101096150</td>\n",
       "      <td>[CLIC INNOVATION OY, FBCD AS, BIOECONOMY FOR C...</td>\n",
       "      <td>101096150</td>\n",
       "      <td>FBCD AS</td>\n",
       "      <td>500000.0</td>\n",
       "      <td>0.0</td>\n",
       "      <td>[other]</td>\n",
       "      <td>[other]</td>\n",
       "      <td>[other]</td>\n",
       "      <td>[other]</td>\n",
       "    </tr>\n",
       "    <tr>\n",
       "      <th>2</th>\n",
       "      <td>101093997</td>\n",
       "      <td>GlycanTrigger</td>\n",
       "      <td>SIGNED</td>\n",
       "      <td>GLYCANS AS MASTER TRIGGERS OF HEALTH TO INTEST...</td>\n",
       "      <td>2023-01-01</td>\n",
       "      <td>2028-12-31</td>\n",
       "      <td>6771571.0</td>\n",
       "      <td>6771571.0</td>\n",
       "      <td>HORIZON.2.1</td>\n",
       "      <td>HORIZON-HLTH-2022-STAYHLTH-02-01</td>\n",
       "      <td>...</td>\n",
       "      <td>101093997</td>\n",
       "      <td>[ACADEMISCH ZIEKENHUIS LEIDEN, LUDGER LIMITED,...</td>\n",
       "      <td>101093997</td>\n",
       "      <td>I3S - INSTITUTO DE INVESTIGACAO E INOVACAO EM ...</td>\n",
       "      <td>1354314.2</td>\n",
       "      <td>1354314.2</td>\n",
       "      <td>[natural sciences]</td>\n",
       "      <td>[biological sciences]</td>\n",
       "      <td>[biochemistry]</td>\n",
       "      <td>[biomolecules]</td>\n",
       "    </tr>\n",
       "    <tr>\n",
       "      <th>3</th>\n",
       "      <td>101126531</td>\n",
       "      <td>CHIKVAX_CHIM</td>\n",
       "      <td>SIGNED</td>\n",
       "      <td>Late-stage clinical development of Chikungunya...</td>\n",
       "      <td>2023-06-01</td>\n",
       "      <td>2028-11-30</td>\n",
       "      <td>100000000.0</td>\n",
       "      <td>70000000.0</td>\n",
       "      <td>HORIZON.2.1</td>\n",
       "      <td>HORIZON-HLTH-2022-CEPI-15-01-IBA</td>\n",
       "      <td>...</td>\n",
       "      <td>101126531</td>\n",
       "      <td>[COALITION FOR EPIDEMIC PREPAREDNESS INNOVATIONS]</td>\n",
       "      <td>101126531</td>\n",
       "      <td>COALITION FOR EPIDEMIC PREPAREDNESS INNOVATIONS</td>\n",
       "      <td>14000000.0</td>\n",
       "      <td>20000000.0</td>\n",
       "      <td>[medical and health sciences, natural sciences]</td>\n",
       "      <td>[basic medicine, biological sciences, health s...</td>\n",
       "      <td>[pharmacology and pharmacy, infectious disease...</td>\n",
       "      <td>[virology, pharmaceutical drugs, RNA viruses]</td>\n",
       "    </tr>\n",
       "    <tr>\n",
       "      <th>4</th>\n",
       "      <td>101113979</td>\n",
       "      <td>The Oater</td>\n",
       "      <td>CLOSED</td>\n",
       "      <td>The Oater develops a compact machine for hyper...</td>\n",
       "      <td>2023-07-01</td>\n",
       "      <td>2023-12-31</td>\n",
       "      <td>0.0</td>\n",
       "      <td>75000.0</td>\n",
       "      <td>HORIZON.3.2</td>\n",
       "      <td>HORIZON-EIE-2022-SCALEUP-02-02</td>\n",
       "      <td>...</td>\n",
       "      <td>101113979</td>\n",
       "      <td>[OIY SOLUTIONS GMBH]</td>\n",
       "      <td>101113979</td>\n",
       "      <td>OIY SOLUTIONS GMBH</td>\n",
       "      <td>inf</td>\n",
       "      <td>NaN</td>\n",
       "      <td>[social sciences, natural sciences]</td>\n",
       "      <td>[computer and information sciences, biological...</td>\n",
       "      <td>[ecology, internet, business and management]</td>\n",
       "      <td>[internet of things, commerce, ecosystems]</td>\n",
       "    </tr>\n",
       "  </tbody>\n",
       "</table>\n",
       "<p>5 rows × 35 columns</p>\n",
       "</div>"
      ],
      "text/plain": [
       "          id        acronym  status  \\\n",
       "0  101159220      PvSeroRDT  SIGNED   \n",
       "1  101096150       BIOBoost  SIGNED   \n",
       "2  101093997  GlycanTrigger  SIGNED   \n",
       "3  101126531   CHIKVAX_CHIM  SIGNED   \n",
       "4  101113979      The Oater  CLOSED   \n",
       "\n",
       "                                               title  startDate    endDate  \\\n",
       "0  A point-of-care serological rapid diagnostic t... 2025-02-01 2030-01-31   \n",
       "1  Boosting innovation agencies for bioeconomy va... 2023-02-01 2025-01-31   \n",
       "2  GLYCANS AS MASTER TRIGGERS OF HEALTH TO INTEST... 2023-01-01 2028-12-31   \n",
       "3  Late-stage clinical development of Chikungunya... 2023-06-01 2028-11-30   \n",
       "4  The Oater develops a compact machine for hyper... 2023-07-01 2023-12-31   \n",
       "\n",
       "     totalCost  ecMaxContribution   legalBasis  \\\n",
       "0          NaN                NaN  HORIZON.2.1   \n",
       "1          0.0           500000.0  HORIZON.3.2   \n",
       "2    6771571.0          6771571.0  HORIZON.2.1   \n",
       "3  100000000.0         70000000.0  HORIZON.2.1   \n",
       "4          0.0            75000.0  HORIZON.3.2   \n",
       "\n",
       "                                      topics  ... projectID_y  \\\n",
       "0  HORIZON-JU-GH-EDCTP3-2023-02-02-two-stage  ...   101159220   \n",
       "1             HORIZON-EIE-2022-CONNECT-01-01  ...   101096150   \n",
       "2           HORIZON-HLTH-2022-STAYHLTH-02-01  ...   101093997   \n",
       "3           HORIZON-HLTH-2022-CEPI-15-01-IBA  ...   101126531   \n",
       "4             HORIZON-EIE-2022-SCALEUP-02-02  ...   101113979   \n",
       "\n",
       "                                        institutions  projectID  \\\n",
       "0  [Institut Pasteur de Madagascar, INSTITUT PAST...  101159220   \n",
       "1  [CLIC INNOVATION OY, FBCD AS, BIOECONOMY FOR C...  101096150   \n",
       "2  [ACADEMISCH ZIEKENHUIS LEIDEN, LUDGER LIMITED,...  101093997   \n",
       "3  [COALITION FOR EPIDEMIC PREPAREDNESS INNOVATIONS]  101126531   \n",
       "4                               [OIY SOLUTIONS GMBH]  101113979   \n",
       "\n",
       "                                    coordinator_name ecContribution_per_year  \\\n",
       "0                                   INSTITUT PASTEUR                     NaN   \n",
       "1                                            FBCD AS                500000.0   \n",
       "2  I3S - INSTITUTO DE INVESTIGACAO E INOVACAO EM ...               1354314.2   \n",
       "3    COALITION FOR EPIDEMIC PREPAREDNESS INNOVATIONS              14000000.0   \n",
       "4                                 OIY SOLUTIONS GMBH                     inf   \n",
       "\n",
       "  totalCost_per_year                                      field_class  \\\n",
       "0                NaN  [medical and health sciences, natural sciences]   \n",
       "1                0.0                                          [other]   \n",
       "2          1354314.2                               [natural sciences]   \n",
       "3         20000000.0  [medical and health sciences, natural sciences]   \n",
       "4                NaN              [social sciences, natural sciences]   \n",
       "\n",
       "                                               field  \\\n",
       "0             [biological sciences, health sciences]   \n",
       "1                                            [other]   \n",
       "2                              [biological sciences]   \n",
       "3  [basic medicine, biological sciences, health s...   \n",
       "4  [computer and information sciences, biological...   \n",
       "\n",
       "                                            subfield  \\\n",
       "0                [infectious diseases, biochemistry]   \n",
       "1                                            [other]   \n",
       "2                                     [biochemistry]   \n",
       "3  [pharmacology and pharmacy, infectious disease...   \n",
       "4       [ecology, internet, business and management]   \n",
       "\n",
       "                                           niche  \n",
       "0                        [biomolecules, malaria]  \n",
       "1                                        [other]  \n",
       "2                                 [biomolecules]  \n",
       "3  [virology, pharmaceutical drugs, RNA viruses]  \n",
       "4     [internet of things, commerce, ecosystems]  \n",
       "\n",
       "[5 rows x 35 columns]"
      ]
     },
     "execution_count": 32,
     "metadata": {},
     "output_type": "execute_result"
    }
   ],
   "source": [
    "Data_structure.project_df.head()"
   ]
  },
  {
   "cell_type": "code",
   "execution_count": 33,
   "metadata": {},
   "outputs": [
    {
     "name": "stdout",
     "output_type": "stream",
     "text": [
      "['projectID', 'projectAcronym', 'organisationID', 'vatNumber', 'name', 'shortName', 'SME', 'activityType', 'street', 'postCode', 'city', 'country', 'nutsCode', 'geolocation', 'organizationURL', 'contactForm', 'contentUpdateDate', 'rcn', 'order', 'role', 'ecContribution', 'netEcContribution', 'totalCost', 'endOfParticipation', 'active']\n",
      "['id', 'acronym', 'status', 'title', 'startDate', 'endDate', 'totalCost', 'ecMaxContribution', 'legalBasis', 'topics', 'ecSignatureDate', 'frameworkProgramme', 'masterCall', 'subCall', 'fundingScheme', 'nature', 'objective', 'contentUpdateDate', 'rcn', 'grantDoi', 'duration_days', 'duration_months', 'duration_years', 'projectID_x', 'n_institutions', 'projectID_y', 'institutions', 'projectID', 'coordinator_name', 'ecContribution_per_year', 'totalCost_per_year', 'field_class', 'field', 'subfield', 'niche']\n",
      "['id', 'title', 'deliverableType', 'description', 'projectID', 'projectacronym', 'url', 'collection', 'contentupdatedate', 'rcn']\n",
      "['Unnamed: 0', 'id', 'title', 'isPublishedAs', 'authors', 'journalTitle', 'journalNumber', 'publishedYear', 'publishedPages', 'issn', 'isbn', 'doi', 'projectID', 'projectAcronym', 'collection', 'contentUpdateDate', 'rcn']\n",
      "['projectID', 'euroSciVocCode', 'euroSciVocPath', 'euroSciVocTitle', 'euroSciVocDescription']\n",
      "['projectID', 'legalBasis', 'title', 'uniqueProgrammePart']\n",
      "['projectID', 'topic', 'title']\n",
      "['language', 'availableLanguages', 'uri', 'title', 'type', 'source', 'represents']\n"
     ]
    }
   ],
   "source": [
    "# store feature-enriched dataframe to the processed directory\n",
    "Data_structure.export_dataframes(f'{processed_dir}/')\n",
    "\n",
    "print(Data_structure.organization_df.columns.tolist())\n",
    "print(Data_structure.project_df.columns.tolist())\n",
    "print(Data_structure.data_deliverables.columns.tolist())\n",
    "print(Data_structure.data_publications.columns.tolist())\n",
    "print(Data_structure.sci_voc_df.columns.tolist())\n",
    "print(Data_structure.legal_basis_df.columns.tolist())\n",
    "print(Data_structure.topics_df.columns.tolist())\n",
    "print(Data_structure.web_items_df.columns.tolist())"
   ]
  },
  {
   "cell_type": "code",
   "execution_count": 34,
   "metadata": {},
   "outputs": [
    {
     "data": {
      "text/html": [
       "<div>\n",
       "<style scoped>\n",
       "    .dataframe tbody tr th:only-of-type {\n",
       "        vertical-align: middle;\n",
       "    }\n",
       "\n",
       "    .dataframe tbody tr th {\n",
       "        vertical-align: top;\n",
       "    }\n",
       "\n",
       "    .dataframe thead th {\n",
       "        text-align: right;\n",
       "    }\n",
       "</style>\n",
       "<table border=\"1\" class=\"dataframe\">\n",
       "  <thead>\n",
       "    <tr style=\"text-align: right;\">\n",
       "      <th></th>\n",
       "      <th>0</th>\n",
       "    </tr>\n",
       "  </thead>\n",
       "  <tbody>\n",
       "    <tr>\n",
       "      <th>0</th>\n",
       "      <td>PvSeroRDT</td>\n",
       "    </tr>\n",
       "    <tr>\n",
       "      <th>1</th>\n",
       "      <td>BIOBoost</td>\n",
       "    </tr>\n",
       "    <tr>\n",
       "      <th>2</th>\n",
       "      <td>GlycanTrigger</td>\n",
       "    </tr>\n",
       "    <tr>\n",
       "      <th>3</th>\n",
       "      <td>CHIKVAX_CHIM</td>\n",
       "    </tr>\n",
       "    <tr>\n",
       "      <th>4</th>\n",
       "      <td>The Oater</td>\n",
       "    </tr>\n",
       "    <tr>\n",
       "      <th>...</th>\n",
       "      <td>...</td>\n",
       "    </tr>\n",
       "    <tr>\n",
       "      <th>15048</th>\n",
       "      <td>EUCYS2022</td>\n",
       "    </tr>\n",
       "    <tr>\n",
       "      <th>15049</th>\n",
       "      <td>RESAVER_2023</td>\n",
       "    </tr>\n",
       "    <tr>\n",
       "      <th>15050</th>\n",
       "      <td>Leiden2022-ECS-ESOF</td>\n",
       "    </tr>\n",
       "    <tr>\n",
       "      <th>15051</th>\n",
       "      <td>EUCYS2024</td>\n",
       "    </tr>\n",
       "    <tr>\n",
       "      <th>15052</th>\n",
       "      <td>CO-VALUE</td>\n",
       "    </tr>\n",
       "  </tbody>\n",
       "</table>\n",
       "<p>15053 rows × 1 columns</p>\n",
       "</div>"
      ],
      "text/plain": [
       "                         0\n",
       "0                PvSeroRDT\n",
       "1                 BIOBoost\n",
       "2            GlycanTrigger\n",
       "3             CHIKVAX_CHIM\n",
       "4                The Oater\n",
       "...                    ...\n",
       "15048            EUCYS2022\n",
       "15049         RESAVER_2023\n",
       "15050  Leiden2022-ECS-ESOF\n",
       "15051            EUCYS2024\n",
       "15052             CO-VALUE\n",
       "\n",
       "[15053 rows x 1 columns]"
      ]
     },
     "execution_count": 34,
     "metadata": {},
     "output_type": "execute_result"
    }
   ],
   "source": [
    "Data_structure.list_of_acronyms()"
   ]
  },
  {
   "cell_type": "markdown",
   "metadata": {},
   "source": [
    "## Project_data class"
   ]
  },
  {
   "cell_type": "code",
   "execution_count": 35,
   "metadata": {},
   "outputs": [
    {
     "name": "stdout",
     "output_type": "stream",
     "text": [
      "{'ec_total': 1622273.0, 'total_cost': 1622273.0, 'ec_sum_from_partners': 1622273.0, 'cost_sum_from_partners': '1622273', 'ec_per_deliverable': None, 'ec_per_publication': None}\n"
     ]
    }
   ],
   "source": [
    "from backend.classes import Project_data\n",
    "\n",
    "\n",
    "p = Project_data(Data_structure, acronym=\"CLIMB\")\n",
    "summary = p.summary()\n",
    "print(summary[\"financials\"])"
   ]
  },
  {
   "cell_type": "markdown",
   "metadata": {},
   "source": [
    "Use pprint to get out the background information in a readable format."
   ]
  },
  {
   "cell_type": "code",
   "execution_count": 36,
   "metadata": {},
   "outputs": [
    {
     "name": "stdout",
     "output_type": "stream",
     "text": [
      "{'cost_sum_from_partners': '1622273',\n",
      " 'ec_per_deliverable': None,\n",
      " 'ec_per_publication': None,\n",
      " 'ec_sum_from_partners': 1622273.0,\n",
      " 'ec_total': 1622273.0,\n",
      " 'total_cost': 1622273.0}\n"
     ]
    }
   ],
   "source": [
    "pprint(summary[\"financials\"])"
   ]
  },
  {
   "cell_type": "code",
   "execution_count": 37,
   "metadata": {},
   "outputs": [
    {
     "name": "stdout",
     "output_type": "stream",
     "text": [
      "\n",
      "Project: BIOBoost (ID: 101096150)\n",
      "============================================================\n",
      "\n",
      "Publications:\n",
      "Empty DataFrame\n",
      "Columns: [Unnamed: 0, id, title, isPublishedAs, authors, journalTitle, journalNumber, publishedYear, publishedPages, issn, isbn, doi, projectID, projectAcronym, collection, contentUpdateDate, rcn]\n",
      "Index: []\n",
      "\n",
      "Deliverables:\n",
      "                              deliverableType  \\\n",
      "18191                      Documents, reports   \n",
      "18192                      Documents, reports   \n",
      "18193  Websites, patent fillings, videos etc.   \n",
      "18194                      Documents, reports   \n",
      "18195                    Data Management Plan   \n",
      "18196                      Documents, reports   \n",
      "\n",
      "                                             description  \n",
      "18191  The project management handbook will provide c...  \n",
      "18192  The PDEC provides information to all project p...  \n",
      "18193  Interactive online tool showing and mapping ma...  \n",
      "18194  The report includes information on innovation ...  \n",
      "18195  The DMP provides clear information on the cons...  \n",
      "18196  Assessment criteria for SMEs for potential amb...  \n",
      "\n",
      "Institutions / Organizations:\n",
      "    projectID projectAcronym  organisationID      vatNumber  \\\n",
      "8   101096150       BIOBoost       925710480     FI26896124   \n",
      "9   101096150       BIOBoost       984236206     DK25666070   \n",
      "10  101096150       BIOBoost       995548055  FR09489228908   \n",
      "11  101096150       BIOBoost       914459353            NaN   \n",
      "12  101096150       BIOBoost       937057540     SI51545535   \n",
      "13  101096150       BIOBoost       999456476            NaN   \n",
      "14  101096150       BIOBoost       914153512   PL8133709948   \n",
      "15  101096150       BIOBoost       999519720   PL7010073777   \n",
      "\n",
      "                                                 name  \\\n",
      "8                                  CLIC INNOVATION OY   \n",
      "9                                             FBCD AS   \n",
      "10                              BIOECONOMY FOR CHANGE   \n",
      "11  CLUSTER DE EMPRESAS DIGITALES SOTENIBLES E IND...   \n",
      "12   ITC - INOVACIJSKO TEHNOLOSKI GROZD MURSKA SOBOTA   \n",
      "13         VIESOJI ISTAIGA LIETUVOS INOVACIJU CENTRAS   \n",
      "14                                    FUNDACJA UNIMOS   \n",
      "15                   NARODOWE CENTRUM BADAN I ROZWOJU   \n",
      "\n",
      "                                            shortName    SME activityType  \\\n",
      "8                                  CLIC INNOVATION OY   True          OTH   \n",
      "9                                                FBCD   True          OTH   \n",
      "10                                                B4C   True          OTH   \n",
      "11                                  ONTECH INNOVATION  False          REC   \n",
      "12  ITC - INNOVATION TECHNOLOGY CLUSTER MURSKA SOBOTA  False          REC   \n",
      "13                                                LIC  False          PUB   \n",
      "14                                             UNIMOS  False          OTH   \n",
      "15                                               NCBR  False          PUB   \n",
      "\n",
      "                            street  postCode  ...  \\\n",
      "8                    ETELARANTA 10     00130  ...   \n",
      "9           NIELS PEDERSENS ALLE 2      8830  ...   \n",
      "10  10 RUE PIERRE GILLES DE GENNES     02000  ...   \n",
      "11          C/ MAESTRO MONTERO, 23     18004  ...   \n",
      "12              LENDAVSKA ULICA 5A      9000  ...   \n",
      "13                 T. Sevcenkos 13  LT-03223  ...   \n",
      "14               UL. GRZYBOWSKA 87    00 844  ...   \n",
      "15                 UL. CHMIELNA 69    00-801  ...   \n",
      "\n",
      "                                          contactForm    contentUpdateDate  \\\n",
      "8   https://ec.europa.eu/info/funding-tenders/oppo...  2022-12-01 14:09:06   \n",
      "9   https://ec.europa.eu/info/funding-tenders/oppo...  2022-12-01 14:09:06   \n",
      "10  https://ec.europa.eu/info/funding-tenders/oppo...  2022-12-01 14:09:06   \n",
      "11  https://ec.europa.eu/info/funding-tenders/oppo...  2022-12-01 14:09:06   \n",
      "12  https://ec.europa.eu/info/funding-tenders/oppo...  2022-12-01 14:09:06   \n",
      "13  https://ec.europa.eu/info/funding-tenders/oppo...  2022-12-01 14:09:06   \n",
      "14  https://ec.europa.eu/info/funding-tenders/oppo...  2022-12-01 14:09:06   \n",
      "15  https://ec.europa.eu/info/funding-tenders/oppo...  2022-12-01 14:09:06   \n",
      "\n",
      "        rcn order         role ecContribution netEcContribution  totalCost  \\\n",
      "8   2573619     8  participant        68562.5           68562.5          0   \n",
      "9   2158736     1  coordinator        91812.5           91812.5          0   \n",
      "10  2136166     6  participant        65937.5           65937.5          0   \n",
      "11  1972562     5  participant        42562.5           42562.5          0   \n",
      "12  1958893     4  participant        60625.0           60625.0          0   \n",
      "13  2111621     3  participant        56312.5           56312.5          0   \n",
      "14  1966169     2  participant        73000.0           73000.0          0   \n",
      "15  1906778     7  participant        41187.5           41187.5          0   \n",
      "\n",
      "    endOfParticipation active  \n",
      "8                False    NaN  \n",
      "9                False    NaN  \n",
      "10               False    NaN  \n",
      "11               False    NaN  \n",
      "12               False    NaN  \n",
      "13               False    NaN  \n",
      "14               False    NaN  \n",
      "15               False    NaN  \n",
      "\n",
      "[8 rows x 25 columns]\n",
      "\n",
      "Financial Info:\n",
      "{   'Countries': None,\n",
      "    'EC Contribution': None,\n",
      "    'Num Orgs': None,\n",
      "    'Total Cost': None}\n",
      "\n",
      "Dates & Duration:\n",
      "{'Duration (days)': None, 'End Date': None, 'Start Date': None, 'Year': None}\n",
      "\n",
      "Legal & Administrative:\n",
      "{   'Framework Programme': None,\n",
      "    'Funding Scheme': None,\n",
      "    'Legal Basis': Empty DataFrame\n",
      "Columns: [projectID, legalBasis, title, uniqueProgrammePart]\n",
      "Index: []}\n",
      "\n",
      "🔬 Scientific Keywords (euroSciVoc):\n",
      "[]\n",
      "\n",
      "Project Topics:\n",
      "   projectID                           topic  \\\n",
      "1  101096150  HORIZON-EIE-2022-CONNECT-01-01   \n",
      "\n",
      "                                               title  \n",
      "1  Towards more inclusive networks and initiative...  \n",
      "\n",
      "Web Links:\n",
      "[]\n"
     ]
    }
   ],
   "source": [
    "# Inspect a certain project\n",
    "p = Project_data(Data_structure,acronym=\"BIOBoost\")\n",
    "p.inspect_project_data()"
   ]
  },
  {
   "cell_type": "code",
   "execution_count": null,
   "metadata": {},
   "outputs": [],
   "source": []
  },
  {
   "cell_type": "code",
   "execution_count": null,
   "metadata": {},
   "outputs": [],
   "source": []
  },
  {
   "cell_type": "code",
   "execution_count": null,
   "metadata": {},
   "outputs": [],
   "source": []
  }
 ],
 "metadata": {
  "kernelspec": {
   "display_name": "Python 3",
   "language": "python",
   "name": "python3"
  },
  "language_info": {
   "codemirror_mode": {
    "name": "ipython",
    "version": 3
   },
   "file_extension": ".py",
   "mimetype": "text/x-python",
   "name": "python",
   "nbconvert_exporter": "python",
   "pygments_lexer": "ipython3",
   "version": "3.11.0"
  }
 },
 "nbformat": 4,
 "nbformat_minor": 2
}
