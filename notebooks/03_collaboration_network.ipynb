{
 "cells": [
  {
   "cell_type": "markdown",
   "metadata": {},
   "source": [
    "# Collaboration Network Analysis\n",
    "\n",
    "`Overview`\n",
    "This notebook analyzes and visualizes collaboration networks between countries and institutions:\n",
    "- Constructing network graphs from project partnership data\n",
    "- Analyzing network metrics (centrality, clustering, community detection)\n",
    "- Creating interactive network visualizations\n",
    "- Identifying key collaboration patterns and influential nodes\n",
    "\n",
    "`Inputs`\n",
    "- Processed project and partnership data from `../data/processed/`\n",
    "\n",
    "`Outputs`\n",
    "- Network analysis results in `../data/results/`\n",
    "- Interactive network visualizations in `../reports/figures/`\n",
    "\n",
    "`Dependencies`\n",
    "- NetworkX\n",
    "- Matplotlib\n",
    "- Plotly\n",
    "- Pandas\n",
    "- Community detection libraries\n",
    "\n",
    "*Note: This is notebook 3 of the analysis pipeline focusing on collaboration patterns*"
   ]
  },
  {
   "cell_type": "code",
   "execution_count": 1,
   "metadata": {},
   "outputs": [],
   "source": [
    "# imports\n",
    "import os\n",
    "import sys\n",
    "import pandas as pd\n",
    "import numpy as np\n",
    "import plotly.express as px\n",
    "import plotly.graph_objects as go\n",
    "import geopandas as gpd\n",
    "from plotly.subplots import make_subplots\n",
    "import networkx as nx\n",
    "\n",
    "# Import custom modules\n",
    "run_dir = os.getcwd()\n",
    "parent_dir = os.path.dirname(run_dir)\n",
    "sys.path.append(parent_dir)\n",
    "\n",
    "from backend.utils.plots import CORDISPlots\n",
    "from backend.classes.cordis_data import CORDIS_data\n",
    "\n",
    "from backend.classes.project_data  import Project_data"
   ]
  },
  {
   "cell_type": "markdown",
   "metadata": {},
   "source": [
    "## Explore possibilities of NetworkX package\n",
    "We aim to create the following plots: \n",
    "- Frequent collaborating institutions. Indicate the 20 most frequent collaborations with lines on a map\n",
    "- Frequently collaborating people. Determine from the authors list of the publications\n",
    "- project-deliverable plots: which projects produce the main number of plots"
   ]
  },
  {
   "cell_type": "code",
   "execution_count": null,
   "metadata": {},
   "outputs": [],
   "source": [
    "class CORDISPlotter:\n",
    "    def __init__(self, cordis_data):\n",
    "        self.data = cordis_data \n",
    "        \n",
    "    def plot_collaboration_network(self, \n",
    "                                   field_filter=None, \n",
    "                                   org_types = None, \n",
    "                                   max_projects=1000, \n",
    "                                   min_participants=2, \n",
    "                                   countries=None,\n",
    "                                   disciplines=None,\n",
    "                                   year=None,\n",
    "                                   contribution=None,\n",
    "                                   project_type=None):\n",
    "        '''\n",
    "        Function to plot the collaboration network of institutions involved in projects\n",
    "        Parameters:\n",
    "        -----------------\n",
    "        - field_filter: Optional filter for scientific field\n",
    "        - max_projects: Maximum number of projects to include in the plot, to avoid cluttering \n",
    "            (default: 1000, which is still too much)\n",
    "        - min_participants: minimum of participating institutions in a=project to be included. \n",
    "            (default: 2, which is the minimum for a collaboration)\n",
    "        - org_types: List of organization types to include in the plot.\n",
    "            (default: ['HES', 'REC', 'PUB', 'PRC', 'SME']) => all types\n",
    "        - countries: list of counntries of which we include institutions in the plot.\n",
    "            default: None, which means all countries are included.\n",
    "\n",
    "        Returns:\n",
    "        -----------------   \n",
    "        - Plotly figure object\n",
    "        '''\n",
    "        df_proj = self.data.project_df\n",
    "        df_org = self.data.organization_df\n",
    "        # Filter for relevant organization types\n",
    "        if org_types is None:\n",
    "            org_types = ['HES', 'REC', 'PUB', 'PRC', 'SME']\n",
    "        else:\n",
    "            assert type(org_types) == list or type(org_types) == np.array\n",
    "\n",
    "        # Apply scientific field filter if provided\n",
    "        if field_filter:\n",
    "            # Filter projects based on scientific field\n",
    "            df_proj = df_proj[df_proj['sci_voc_titles'].apply(lambda field: field_filter in field if isinstance(field, str) else False)]\n",
    "            project_ids = df_proj['projectID'].unique()\n",
    "            df_org = df_org[df_org['projectID'].isin(project_ids)]\n",
    "            \n",
    "        if org_types:\n",
    "            df_org =df_org[df_org['activityType'].astype(str).isin(org_types)]\n",
    "\n",
    "        if countries:\n",
    "            df_org = df_org[df_org['country'].astype(str).isin(countries)]\n",
    "\n",
    "        if disciplines:\n",
    "            for discipline in disciplines:\n",
    "                df_org = df_org[df_org['discipline'].astype(str).str.contains(discipline, na=False)]\n",
    "\n",
    "        if year:\n",
    "            df_org = df_org[df_org['startDate'].astype(str).str.contains(year, na=False)]\n",
    "\n",
    "        if contribution:\n",
    "            df_org = df_org[df_org['contribution'].astype(float) >= contribution]\n",
    "   \n",
    "        if project_type:\n",
    "            for call in project_type:\n",
    "                df_proj = df_proj[df_proj['fundingScheme'].apply(lambda funding_scheme: call in funding_scheme if isinstance(funding_scheme, str) else False)]\n",
    "                project_ids = df_proj['projectID'].unique()\n",
    "                df_org = df_org[df_org['projectID'].isin(project_ids)]\n",
    "\n",
    "        df_org = df_org[['projectID', 'name']].drop_duplicates()\n",
    "\n",
    "        # Group by project and filter based on number of participants\n",
    "        collab_df = df_org.groupby('projectID')['name'].apply(list).reset_index()\n",
    "        collab_df = collab_df[collab_df['name'].apply(lambda x: len(x) >= min_participants)]\n",
    "        collab_df = collab_df.head(max_projects)\n",
    "\n",
    "        from itertools import combinations\n",
    "        from collections import Counter\n",
    "\n",
    "        # Build edge list\n",
    "        edge_list = []\n",
    "        for names in collab_df['name']:\n",
    "            edge_list.extend(combinations(names, 2))\n",
    "        edge_counts = Counter(edge_list)\n",
    "\n",
    "        G = nx.Graph()\n",
    "        for (u, v), weight in edge_counts.items():\n",
    "            G.add_edge(u, v, weight=weight)\n",
    "\n",
    "        pos = nx.spring_layout(G, k=0.15, iterations=20)\n",
    "\n",
    "        edge_x, edge_y = [], []\n",
    "        for edge in G.edges():\n",
    "            x0, y0 = pos[edge[0]]\n",
    "            x1, y1 = pos[edge[1]]\n",
    "            edge_x += [x0, x1, None]\n",
    "            edge_y += [y0, y1, None]\n",
    "\n",
    "        edge_trace = go.Scatter(\n",
    "            x=edge_x, y=edge_y,\n",
    "            line=dict(width=0.5, color='#888'),\n",
    "            hoverinfo='none',\n",
    "            mode='lines')\n",
    "\n",
    "        node_x, node_y, node_text = [], [], []\n",
    "        for node in G.nodes():\n",
    "            x, y = pos[node]\n",
    "            node_x.append(x)\n",
    "            node_y.append(y)\n",
    "            node_text.append(node)\n",
    "\n",
    "        node_trace = go.Scatter(\n",
    "            x=node_x, y=node_y,\n",
    "            mode='markers+text',\n",
    "            text=node_text,\n",
    "            textposition='top center',\n",
    "            marker=dict(\n",
    "                showscale=False,\n",
    "                color='blue',\n",
    "                size=10,\n",
    "                line_width=2))\n",
    "        if field_filter:\n",
    "            title = f'Institution Collaboration Network for {field_filter}'\n",
    "        else:\n",
    "            title = 'Institution Collaboration Network'\n",
    "        fig = go.Figure(data=[edge_trace, node_trace],\n",
    "                        layout=go.Layout(\n",
    "                            title=title,\n",
    "                            showlegend=False,\n",
    "                            hovermode='closest',\n",
    "                            margin=dict(b=20, l=5, r=5, t=40),\n",
    "                            xaxis=dict(showgrid=False, zeroline=False),\n",
    "                            yaxis=dict(showgrid=False, zeroline=False)))\n",
    "\n",
    "        fig.show()"
   ]
  },
  {
   "cell_type": "code",
   "execution_count": 3,
   "metadata": {},
   "outputs": [],
   "source": [
    "# load projects class\n",
    "projects_df = pd.read_csv(f'{parent_dir}/data/processed/project_df.csv')\n",
    "organization_df = pd.read_csv(f'{parent_dir}/data/processed/organization_df.csv')"
   ]
  },
  {
   "cell_type": "code",
   "execution_count": 4,
   "metadata": {},
   "outputs": [
    {
     "data": {
      "text/plain": [
       "Index(['id', 'acronym', 'status', 'title', 'startDate', 'endDate', 'totalCost',\n",
       "       'ecMaxContribution', 'legalBasis', 'topics', 'ecSignatureDate',\n",
       "       'frameworkProgramme', 'masterCall', 'subCall', 'fundingScheme',\n",
       "       'nature', 'objective', 'contentUpdateDate', 'rcn', 'grantDoi',\n",
       "       'duration_days', 'duration_months', 'duration_years', 'projectID_x',\n",
       "       'n_institutions', 'projectID_y', 'institutions', 'projectID',\n",
       "       'coordinator_name', 'ecContribution_per_year', 'totalCost_per_year',\n",
       "       'sci_voc_titles', 'sci_voc_paths', 'topic_titles'],\n",
       "      dtype='object')"
      ]
     },
     "execution_count": 4,
     "metadata": {},
     "output_type": "execute_result"
    }
   ],
   "source": [
    "projects_df.keys()"
   ]
  },
  {
   "cell_type": "code",
   "execution_count": 16,
   "metadata": {},
   "outputs": [
    {
     "data": {
      "text/plain": [
       "array(['HORIZON-JU-RIA', 'HORIZON-CSA', 'HORIZON-RIA', 'HORIZON-COFUND',\n",
       "       'HORIZON-JU-CSA', 'HORIZON-EIT-KIC', 'HORIZON-TMA-MSCA-PF-EF',\n",
       "       'CSA', 'HORIZON-AG-UN', 'HORIZON-AG', 'HORIZON-IA',\n",
       "       'HORIZON-TMA-MSCA-SE', 'HORIZON-TMA-MSCA-PF-GF',\n",
       "       'HORIZON-TMA-MSCA-Cofund-D', 'HORIZON-TMA-MSCA-Cofund-P',\n",
       "       'MSCA-PF', 'EURATOM-CSA', 'HORIZON-TMA-MSCA-DN', 'HORIZON-AG-LS',\n",
       "       'EURATOM-IA', 'HORIZON-TMA-MSCA-DN-ID', 'HORIZON-TMA-MSCA-DN-JD',\n",
       "       'HORIZON-PCP', 'HORIZON-JU-IA', 'EURATOM-RIA', 'IA',\n",
       "       'HORIZON-EIC-ACC-BF', 'HORIZON-EIC', 'EIC-ACC', 'HORIZON-EIC-ACC',\n",
       "       'EURATOM-COFUND', 'RIA', 'HORIZON-ERC-POC', 'HORIZON-ERC',\n",
       "       'HORIZON-ERC-SYG', 'ERC', 'ERC-POC', 'EIC'], dtype=object)"
      ]
     },
     "execution_count": 16,
     "metadata": {},
     "output_type": "execute_result"
    }
   ],
   "source": [
    "projects_df['fundingScheme'].unique()"
   ]
  },
  {
   "cell_type": "code",
   "execution_count": 5,
   "metadata": {},
   "outputs": [],
   "source": [
    "horizon_data = CORDIS_data(parent_dir, enrich=False)"
   ]
  },
  {
   "cell_type": "code",
   "execution_count": 6,
   "metadata": {},
   "outputs": [
    {
     "data": {
      "text/plain": [
       "array(['malaria', 'proteins', 'carbohydrates', 'virology',\n",
       "       'coronaviruses', 'vaccines', 'internet of things', 'e-commerce',\n",
       "       'ecosystems', 'orthodontics', 'government systems',\n",
       "       'energy and fuels', 'linguistics', 'obstetrics', 'microbiology',\n",
       "       'mortality', 'diabetes', 'cardiology', 'obesity', 'software'],\n",
       "      dtype=object)"
      ]
     },
     "execution_count": 6,
     "metadata": {},
     "output_type": "execute_result"
    }
   ],
   "source": [
    "horizon_data.sci_voc_df['euroSciVocTitle'].unique()[:20]"
   ]
  },
  {
   "cell_type": "code",
   "execution_count": 10,
   "metadata": {},
   "outputs": [
    {
     "data": {
      "text/plain": [
       "Index(['projectID', 'projectAcronym', 'organisationID', 'vatNumber', 'name',\n",
       "       'shortName', 'SME', 'activityType', 'street', 'postCode', 'city',\n",
       "       'country', 'nutsCode', 'geolocation', 'organizationURL', 'contactForm',\n",
       "       'contentUpdateDate', 'rcn', 'order', 'role', 'ecContribution',\n",
       "       'netEcContribution', 'totalCost', 'endOfParticipation', 'active'],\n",
       "      dtype='object')"
      ]
     },
     "execution_count": 10,
     "metadata": {},
     "output_type": "execute_result"
    }
   ],
   "source": [
    "horizon_data.organization_df.keys()"
   ]
  },
  {
   "cell_type": "code",
   "execution_count": 15,
   "metadata": {},
   "outputs": [],
   "source": [
    "plots = CORDISPlotter(horizon_data)"
   ]
  },
  {
   "cell_type": "code",
   "execution_count": 18,
   "metadata": {},
   "outputs": [
    {
     "data": {
      "application/vnd.plotly.v1+json": {
       "config": {
        "plotlyServerURL": "https://plot.ly"
       },
       "data": [
        {
         "hoverinfo": "none",
         "line": {
          "color": "#888",
          "width": 0.5
         },
         "mode": "lines",
         "type": "scatter",
         "x": [
          0.6117535017531137,
          0.42051772461151504,
          null,
          0.6117535017531137,
          0.6085705633529123,
          null,
          0.6117535017531137,
          0.42577783250031714,
          null,
          0.42051772461151504,
          0.6085705633529123,
          null,
          0.42051772461151504,
          0.42577783250031714,
          null,
          0.6085705633529123,
          0.42577783250031714,
          null,
          -0.052924659266540844,
          -0.13868083273644308,
          null,
          -0.052924659266540844,
          -0.28613901139054543,
          null,
          -0.052924659266540844,
          -0.28533472782025665,
          null,
          -0.13868083273644308,
          -0.28613901139054543,
          null,
          -0.13868083273644308,
          -0.28533472782025665,
          null,
          -0.28613901139054543,
          -0.28533472782025665,
          null,
          -0.28533472782025665,
          -0.46672830182378316,
          null,
          -0.28533472782025665,
          -0.52528950856552,
          null,
          -0.28533472782025665,
          -0.3115225806147688,
          null,
          -0.46672830182378316,
          -0.52528950856552,
          null,
          -0.46672830182378316,
          -0.3115225806147688,
          null,
          -0.52528950856552,
          -0.3115225806147688,
          null
         ],
         "y": [
          -0.8082487797504508,
          -0.9872270728856435,
          null,
          -0.8082487797504508,
          -1,
          null,
          -0.8082487797504508,
          -0.8002862991277276,
          null,
          -0.9872270728856435,
          -1,
          null,
          -0.9872270728856435,
          -0.8002862991277276,
          null,
          -1,
          -0.8002862991277276,
          null,
          0.6778948743785679,
          0.8274999049316927,
          null,
          0.6778948743785679,
          0.7684172936421774,
          null,
          0.6778948743785679,
          0.5056248515363597,
          null,
          0.8274999049316927,
          0.7684172936421774,
          null,
          0.8274999049316927,
          0.5056248515363597,
          null,
          0.7684172936421774,
          0.5056248515363597,
          null,
          0.5056248515363597,
          0.202248294638246,
          null,
          0.5056248515363597,
          0.3644038552718108,
          null,
          0.5056248515363597,
          0.24967307736496727,
          null,
          0.202248294638246,
          0.3644038552718108,
          null,
          0.202248294638246,
          0.24967307736496727,
          null,
          0.3644038552718108,
          0.24967307736496727,
          null
         ]
        },
        {
         "marker": {
          "color": "blue",
          "line": {
           "width": 2
          },
          "showscale": false,
          "size": 10
         },
         "mode": "markers+text",
         "text": [
          "UNIVERSITY OF BRITISH COLUMBIA",
          "UNIVERSITEIT LEIDEN",
          "BEN-GURION UNIVERSITY OF THE NEGEV",
          "UNIVERSITEIT UTRECHT",
          "UNIVERSITY OF CAPE TOWN",
          "ECOLE NORMALE SUPERIEURE",
          "HELMHOLTZ-ZENTRUM FUR OZEANFORSCHUNG KIEL (GEOMAR)",
          "GOETEBORGS UNIVERSITET",
          "CARNEGIE INSTITUTION OF WASHINGTON",
          "UNIVERSITAT WIEN",
          "SYDDANSK UNIVERSITET"
         ],
         "textposition": "top center",
         "type": "scatter",
         "x": [
          0.6117535017531137,
          0.42051772461151504,
          0.6085705633529123,
          0.42577783250031714,
          -0.052924659266540844,
          -0.13868083273644308,
          -0.28613901139054543,
          -0.28533472782025665,
          -0.46672830182378316,
          -0.52528950856552,
          -0.3115225806147688
         ],
         "y": [
          -0.8082487797504508,
          -0.9872270728856435,
          -1,
          -0.8002862991277276,
          0.6778948743785679,
          0.8274999049316927,
          0.7684172936421774,
          0.5056248515363597,
          0.202248294638246,
          0.3644038552718108,
          0.24967307736496727
         ]
        }
       ],
       "layout": {
        "hovermode": "closest",
        "margin": {
         "b": 20,
         "l": 5,
         "r": 5,
         "t": 40
        },
        "showlegend": false,
        "template": {
         "data": {
          "bar": [
           {
            "error_x": {
             "color": "#2a3f5f"
            },
            "error_y": {
             "color": "#2a3f5f"
            },
            "marker": {
             "line": {
              "color": "#E5ECF6",
              "width": 0.5
             },
             "pattern": {
              "fillmode": "overlay",
              "size": 10,
              "solidity": 0.2
             }
            },
            "type": "bar"
           }
          ],
          "barpolar": [
           {
            "marker": {
             "line": {
              "color": "#E5ECF6",
              "width": 0.5
             },
             "pattern": {
              "fillmode": "overlay",
              "size": 10,
              "solidity": 0.2
             }
            },
            "type": "barpolar"
           }
          ],
          "carpet": [
           {
            "aaxis": {
             "endlinecolor": "#2a3f5f",
             "gridcolor": "white",
             "linecolor": "white",
             "minorgridcolor": "white",
             "startlinecolor": "#2a3f5f"
            },
            "baxis": {
             "endlinecolor": "#2a3f5f",
             "gridcolor": "white",
             "linecolor": "white",
             "minorgridcolor": "white",
             "startlinecolor": "#2a3f5f"
            },
            "type": "carpet"
           }
          ],
          "choropleth": [
           {
            "colorbar": {
             "outlinewidth": 0,
             "ticks": ""
            },
            "type": "choropleth"
           }
          ],
          "contour": [
           {
            "colorbar": {
             "outlinewidth": 0,
             "ticks": ""
            },
            "colorscale": [
             [
              0,
              "#0d0887"
             ],
             [
              0.1111111111111111,
              "#46039f"
             ],
             [
              0.2222222222222222,
              "#7201a8"
             ],
             [
              0.3333333333333333,
              "#9c179e"
             ],
             [
              0.4444444444444444,
              "#bd3786"
             ],
             [
              0.5555555555555556,
              "#d8576b"
             ],
             [
              0.6666666666666666,
              "#ed7953"
             ],
             [
              0.7777777777777778,
              "#fb9f3a"
             ],
             [
              0.8888888888888888,
              "#fdca26"
             ],
             [
              1,
              "#f0f921"
             ]
            ],
            "type": "contour"
           }
          ],
          "contourcarpet": [
           {
            "colorbar": {
             "outlinewidth": 0,
             "ticks": ""
            },
            "type": "contourcarpet"
           }
          ],
          "heatmap": [
           {
            "colorbar": {
             "outlinewidth": 0,
             "ticks": ""
            },
            "colorscale": [
             [
              0,
              "#0d0887"
             ],
             [
              0.1111111111111111,
              "#46039f"
             ],
             [
              0.2222222222222222,
              "#7201a8"
             ],
             [
              0.3333333333333333,
              "#9c179e"
             ],
             [
              0.4444444444444444,
              "#bd3786"
             ],
             [
              0.5555555555555556,
              "#d8576b"
             ],
             [
              0.6666666666666666,
              "#ed7953"
             ],
             [
              0.7777777777777778,
              "#fb9f3a"
             ],
             [
              0.8888888888888888,
              "#fdca26"
             ],
             [
              1,
              "#f0f921"
             ]
            ],
            "type": "heatmap"
           }
          ],
          "histogram": [
           {
            "marker": {
             "pattern": {
              "fillmode": "overlay",
              "size": 10,
              "solidity": 0.2
             }
            },
            "type": "histogram"
           }
          ],
          "histogram2d": [
           {
            "colorbar": {
             "outlinewidth": 0,
             "ticks": ""
            },
            "colorscale": [
             [
              0,
              "#0d0887"
             ],
             [
              0.1111111111111111,
              "#46039f"
             ],
             [
              0.2222222222222222,
              "#7201a8"
             ],
             [
              0.3333333333333333,
              "#9c179e"
             ],
             [
              0.4444444444444444,
              "#bd3786"
             ],
             [
              0.5555555555555556,
              "#d8576b"
             ],
             [
              0.6666666666666666,
              "#ed7953"
             ],
             [
              0.7777777777777778,
              "#fb9f3a"
             ],
             [
              0.8888888888888888,
              "#fdca26"
             ],
             [
              1,
              "#f0f921"
             ]
            ],
            "type": "histogram2d"
           }
          ],
          "histogram2dcontour": [
           {
            "colorbar": {
             "outlinewidth": 0,
             "ticks": ""
            },
            "colorscale": [
             [
              0,
              "#0d0887"
             ],
             [
              0.1111111111111111,
              "#46039f"
             ],
             [
              0.2222222222222222,
              "#7201a8"
             ],
             [
              0.3333333333333333,
              "#9c179e"
             ],
             [
              0.4444444444444444,
              "#bd3786"
             ],
             [
              0.5555555555555556,
              "#d8576b"
             ],
             [
              0.6666666666666666,
              "#ed7953"
             ],
             [
              0.7777777777777778,
              "#fb9f3a"
             ],
             [
              0.8888888888888888,
              "#fdca26"
             ],
             [
              1,
              "#f0f921"
             ]
            ],
            "type": "histogram2dcontour"
           }
          ],
          "mesh3d": [
           {
            "colorbar": {
             "outlinewidth": 0,
             "ticks": ""
            },
            "type": "mesh3d"
           }
          ],
          "parcoords": [
           {
            "line": {
             "colorbar": {
              "outlinewidth": 0,
              "ticks": ""
             }
            },
            "type": "parcoords"
           }
          ],
          "pie": [
           {
            "automargin": true,
            "type": "pie"
           }
          ],
          "scatter": [
           {
            "fillpattern": {
             "fillmode": "overlay",
             "size": 10,
             "solidity": 0.2
            },
            "type": "scatter"
           }
          ],
          "scatter3d": [
           {
            "line": {
             "colorbar": {
              "outlinewidth": 0,
              "ticks": ""
             }
            },
            "marker": {
             "colorbar": {
              "outlinewidth": 0,
              "ticks": ""
             }
            },
            "type": "scatter3d"
           }
          ],
          "scattercarpet": [
           {
            "marker": {
             "colorbar": {
              "outlinewidth": 0,
              "ticks": ""
             }
            },
            "type": "scattercarpet"
           }
          ],
          "scattergeo": [
           {
            "marker": {
             "colorbar": {
              "outlinewidth": 0,
              "ticks": ""
             }
            },
            "type": "scattergeo"
           }
          ],
          "scattergl": [
           {
            "marker": {
             "colorbar": {
              "outlinewidth": 0,
              "ticks": ""
             }
            },
            "type": "scattergl"
           }
          ],
          "scattermap": [
           {
            "marker": {
             "colorbar": {
              "outlinewidth": 0,
              "ticks": ""
             }
            },
            "type": "scattermap"
           }
          ],
          "scattermapbox": [
           {
            "marker": {
             "colorbar": {
              "outlinewidth": 0,
              "ticks": ""
             }
            },
            "type": "scattermapbox"
           }
          ],
          "scatterpolar": [
           {
            "marker": {
             "colorbar": {
              "outlinewidth": 0,
              "ticks": ""
             }
            },
            "type": "scatterpolar"
           }
          ],
          "scatterpolargl": [
           {
            "marker": {
             "colorbar": {
              "outlinewidth": 0,
              "ticks": ""
             }
            },
            "type": "scatterpolargl"
           }
          ],
          "scatterternary": [
           {
            "marker": {
             "colorbar": {
              "outlinewidth": 0,
              "ticks": ""
             }
            },
            "type": "scatterternary"
           }
          ],
          "surface": [
           {
            "colorbar": {
             "outlinewidth": 0,
             "ticks": ""
            },
            "colorscale": [
             [
              0,
              "#0d0887"
             ],
             [
              0.1111111111111111,
              "#46039f"
             ],
             [
              0.2222222222222222,
              "#7201a8"
             ],
             [
              0.3333333333333333,
              "#9c179e"
             ],
             [
              0.4444444444444444,
              "#bd3786"
             ],
             [
              0.5555555555555556,
              "#d8576b"
             ],
             [
              0.6666666666666666,
              "#ed7953"
             ],
             [
              0.7777777777777778,
              "#fb9f3a"
             ],
             [
              0.8888888888888888,
              "#fdca26"
             ],
             [
              1,
              "#f0f921"
             ]
            ],
            "type": "surface"
           }
          ],
          "table": [
           {
            "cells": {
             "fill": {
              "color": "#EBF0F8"
             },
             "line": {
              "color": "white"
             }
            },
            "header": {
             "fill": {
              "color": "#C8D4E3"
             },
             "line": {
              "color": "white"
             }
            },
            "type": "table"
           }
          ]
         },
         "layout": {
          "annotationdefaults": {
           "arrowcolor": "#2a3f5f",
           "arrowhead": 0,
           "arrowwidth": 1
          },
          "autotypenumbers": "strict",
          "coloraxis": {
           "colorbar": {
            "outlinewidth": 0,
            "ticks": ""
           }
          },
          "colorscale": {
           "diverging": [
            [
             0,
             "#8e0152"
            ],
            [
             0.1,
             "#c51b7d"
            ],
            [
             0.2,
             "#de77ae"
            ],
            [
             0.3,
             "#f1b6da"
            ],
            [
             0.4,
             "#fde0ef"
            ],
            [
             0.5,
             "#f7f7f7"
            ],
            [
             0.6,
             "#e6f5d0"
            ],
            [
             0.7,
             "#b8e186"
            ],
            [
             0.8,
             "#7fbc41"
            ],
            [
             0.9,
             "#4d9221"
            ],
            [
             1,
             "#276419"
            ]
           ],
           "sequential": [
            [
             0,
             "#0d0887"
            ],
            [
             0.1111111111111111,
             "#46039f"
            ],
            [
             0.2222222222222222,
             "#7201a8"
            ],
            [
             0.3333333333333333,
             "#9c179e"
            ],
            [
             0.4444444444444444,
             "#bd3786"
            ],
            [
             0.5555555555555556,
             "#d8576b"
            ],
            [
             0.6666666666666666,
             "#ed7953"
            ],
            [
             0.7777777777777778,
             "#fb9f3a"
            ],
            [
             0.8888888888888888,
             "#fdca26"
            ],
            [
             1,
             "#f0f921"
            ]
           ],
           "sequentialminus": [
            [
             0,
             "#0d0887"
            ],
            [
             0.1111111111111111,
             "#46039f"
            ],
            [
             0.2222222222222222,
             "#7201a8"
            ],
            [
             0.3333333333333333,
             "#9c179e"
            ],
            [
             0.4444444444444444,
             "#bd3786"
            ],
            [
             0.5555555555555556,
             "#d8576b"
            ],
            [
             0.6666666666666666,
             "#ed7953"
            ],
            [
             0.7777777777777778,
             "#fb9f3a"
            ],
            [
             0.8888888888888888,
             "#fdca26"
            ],
            [
             1,
             "#f0f921"
            ]
           ]
          },
          "colorway": [
           "#636efa",
           "#EF553B",
           "#00cc96",
           "#ab63fa",
           "#FFA15A",
           "#19d3f3",
           "#FF6692",
           "#B6E880",
           "#FF97FF",
           "#FECB52"
          ],
          "font": {
           "color": "#2a3f5f"
          },
          "geo": {
           "bgcolor": "white",
           "lakecolor": "white",
           "landcolor": "#E5ECF6",
           "showlakes": true,
           "showland": true,
           "subunitcolor": "white"
          },
          "hoverlabel": {
           "align": "left"
          },
          "hovermode": "closest",
          "mapbox": {
           "style": "light"
          },
          "paper_bgcolor": "white",
          "plot_bgcolor": "#E5ECF6",
          "polar": {
           "angularaxis": {
            "gridcolor": "white",
            "linecolor": "white",
            "ticks": ""
           },
           "bgcolor": "#E5ECF6",
           "radialaxis": {
            "gridcolor": "white",
            "linecolor": "white",
            "ticks": ""
           }
          },
          "scene": {
           "xaxis": {
            "backgroundcolor": "#E5ECF6",
            "gridcolor": "white",
            "gridwidth": 2,
            "linecolor": "white",
            "showbackground": true,
            "ticks": "",
            "zerolinecolor": "white"
           },
           "yaxis": {
            "backgroundcolor": "#E5ECF6",
            "gridcolor": "white",
            "gridwidth": 2,
            "linecolor": "white",
            "showbackground": true,
            "ticks": "",
            "zerolinecolor": "white"
           },
           "zaxis": {
            "backgroundcolor": "#E5ECF6",
            "gridcolor": "white",
            "gridwidth": 2,
            "linecolor": "white",
            "showbackground": true,
            "ticks": "",
            "zerolinecolor": "white"
           }
          },
          "shapedefaults": {
           "line": {
            "color": "#2a3f5f"
           }
          },
          "ternary": {
           "aaxis": {
            "gridcolor": "white",
            "linecolor": "white",
            "ticks": ""
           },
           "baxis": {
            "gridcolor": "white",
            "linecolor": "white",
            "ticks": ""
           },
           "bgcolor": "#E5ECF6",
           "caxis": {
            "gridcolor": "white",
            "linecolor": "white",
            "ticks": ""
           }
          },
          "title": {
           "x": 0.05
          },
          "xaxis": {
           "automargin": true,
           "gridcolor": "white",
           "linecolor": "white",
           "ticks": "",
           "title": {
            "standoff": 15
           },
           "zerolinecolor": "white",
           "zerolinewidth": 2
          },
          "yaxis": {
           "automargin": true,
           "gridcolor": "white",
           "linecolor": "white",
           "ticks": "",
           "title": {
            "standoff": 15
           },
           "zerolinecolor": "white",
           "zerolinewidth": 2
          }
         }
        },
        "title": {
         "text": "Institution Collaboration Network for ecosystems"
        },
        "xaxis": {
         "showgrid": false,
         "zeroline": false
        },
        "yaxis": {
         "showgrid": false,
         "zeroline": false
        }
       }
      }
     },
     "metadata": {},
     "output_type": "display_data"
    }
   ],
   "source": [
    "plots.plot_collaboration_network(field_filter='ecosystems', \n",
    "                                 max_projects=20, \n",
    "                                 min_participants=3, \n",
    "                                #  org_types=['REC'], \n",
    "                                 project_type =['HORIZON-ERC-SYG'])"
   ]
  },
  {
   "cell_type": "markdown",
   "metadata": {},
   "source": [
    "This works but we definetely need to work on some filterings. Now it is not clear at all. We optionally include filters on the scientific field, and later on we will also allow filtering on countries.\n",
    "\n",
    "Implemented filters:\n",
    "- `field_filter`: filter on the scientific field (specific, as specified in sci_voc_title). Gives a lot of control.\n",
    "- `org-types`: filter on type of organization: research, public, private, non-profit (IDK what the acronyms stand for)\n",
    "- `max_projects`: maximal number of projects to plot\n",
    "- `min_participants`: minimal number of participating institutes. Must me larger than 2 (minimum to form a colllaboration)\n",
    "- `countries`: filter on countries\n",
    "- `scientific field`: high_level_discipline classification (EuroSciVocPath)\n",
    "- `year`: start year of the project (start_year)\n",
    "- `contribution`: contribution of the different countries\n",
    "- `project_type`: this corresponds to the different calls. e.g. ERC grand are prstigious research grants for big, ambitious, collaborative fundamental research projects\n",
    "\n"
   ]
  },
  {
   "cell_type": "markdown",
   "metadata": {},
   "source": [
    "## Refinement search per field\n",
    "\n",
    "There are many different fiels, each with their own subfield. We create a function that returns a filtered DataFrame with flexible filtering, allowing for different levels.\n",
    "\n",
    "Levels"
   ]
  },
  {
   "cell_type": "code",
   "execution_count": null,
   "metadata": {},
   "outputs": [],
   "source": [
    "class CORDISPlotter(horizon_data):\n",
    "    def __init__(self, cordis_data):\n",
    "        self.data = cordis_data\n",
    "    \n",
    "    def filter_field(self, \n",
    "                     field_class= None, \n",
    "                     field=None,\n",
    "                     subfield=None):\n",
    "        '''\n",
    "        Function to ffilter the data on different levels of dields. In descending order:\n",
    "        - field_class: e.g. natural sciences\n",
    "        - field: e.g. biology\n",
    "        - subfield: e.g. molecular biology\n",
    "        '''\n",
    "        "
   ]
  },
  {
   "cell_type": "markdown",
   "metadata": {},
   "source": [
    "We need to implement this in the CORDIS_data class. \n",
    " We add the following three fields:\n",
    " - `field_class`\n",
    " - `field`\n",
    " - `subfield`\n",
    "\n",
    "Some projects have several SciVocPaths. To cover those, we add the three field as lists for all projects. To filter one can just check field in `df_project['field'].astype(list)` to get True / False and thus a criterion to slice the DataFrame with.  "
   ]
  },
  {
   "cell_type": "code",
   "execution_count": null,
   "metadata": {},
   "outputs": [],
   "source": []
  }
 ],
 "metadata": {
  "kernelspec": {
   "display_name": "Python 3",
   "language": "python",
   "name": "python3"
  },
  "language_info": {
   "codemirror_mode": {
    "name": "ipython",
    "version": 3
   },
   "file_extension": ".py",
   "mimetype": "text/x-python",
   "name": "python",
   "nbconvert_exporter": "python",
   "pygments_lexer": "ipython3",
   "version": "3.11.0"
  }
 },
 "nbformat": 4,
 "nbformat_minor": 2
}
