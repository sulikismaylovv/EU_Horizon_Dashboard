{
 "cells": [
  {
   "cell_type": "markdown",
   "metadata": {},
   "source": [
    "# Collaboration Network Analysis\n",
    "\n",
    "`Overview`\n",
    "This notebook analyzes and visualizes collaboration networks between countries and institutions:\n",
    "- Constructing network graphs from project partnership data\n",
    "- Analyzing network metrics (centrality, clustering, community detection)\n",
    "- Creating interactive network visualizations\n",
    "- Identifying key collaboration patterns and influential nodes\n",
    "\n",
    "`Inputs`\n",
    "- Processed project and partnership data from `../data/processed/`\n",
    "\n",
    "`Outputs`\n",
    "- Network analysis results in `../data/results/`\n",
    "- Interactive network visualizations in `../reports/figures/`\n",
    "\n",
    "`Dependencies`\n",
    "- NetworkX\n",
    "- Matplotlib\n",
    "- Plotly\n",
    "- Pandas\n",
    "- Community detection libraries\n",
    "\n",
    "*Note: This is notebook 3 of the analysis pipeline focusing on collaboration patterns*"
   ]
  },
  {
   "cell_type": "code",
   "execution_count": 1,
   "metadata": {},
   "outputs": [],
   "source": [
    "# imports\n",
    "import os\n",
    "import sys\n",
    "import pandas as pd\n",
    "import numpy as np\n",
    "import plotly.express as px\n",
    "import plotly.graph_objects as go\n",
    "from plotly.subplots import make_subplots\n",
    "import networkx as nx\n",
    "\n",
    "# Import custom modules\n",
    "run_dir = os.getcwd()\n",
    "parent_dir = os.path.dirname(run_dir)\n",
    "sys.path.append(parent_dir)\n",
    "\n",
    "from backend.utils.plots import CORDISPlots\n",
    "from backend.classes.cordis_data import CORDIS_data\n",
    "\n",
    "from backend.classes.project_data  import Project_data"
   ]
  },
  {
   "cell_type": "markdown",
   "metadata": {},
   "source": [
    "## Explore possibilities of NetworkX package\n",
    "We aim to create the following plots: \n",
    "- Frequent collaborating institutions. Indicate the 20 most frequent collaborations with lines on a map\n",
    "- Frequently collaborating people. Determine from the authors list of the publications\n",
    "- project-deliverable plots: which projects produce the main number of plots"
   ]
  },
  {
   "cell_type": "code",
   "execution_count": 3,
   "metadata": {},
   "outputs": [],
   "source": [
    "# load projects class\n",
    "projects_df = pd.read_csv(f'{parent_dir}/data/processed/projects.csv')\n",
    "organization_df = pd.read_csv(f'{parent_dir}/data/processed/organizations.csv')"
   ]
  },
  {
   "cell_type": "code",
   "execution_count": 4,
   "metadata": {},
   "outputs": [
    {
     "data": {
      "text/plain": [
       "Index(['id', 'acronym', 'status', 'title', 'start_date', 'end_date',\n",
       "       'total_cost', 'ec_max_contribution', 'ec_signature_date',\n",
       "       'framework_programme', 'master_call', 'sub_call', 'funding_scheme',\n",
       "       'nature', 'objective', 'content_update_date', 'rcn', 'grant_doi',\n",
       "       'duration_days', 'duration_months', 'duration_years', 'n_institutions',\n",
       "       'coordinator_name', 'ec_contribution_per_year', 'total_cost_per_year',\n",
       "       'field_class', 'field', 'sub_field', 'niche'],\n",
       "      dtype='object')"
      ]
     },
     "execution_count": 4,
     "metadata": {},
     "output_type": "execute_result"
    }
   ],
   "source": [
    "projects_df.keys()"
   ]
  },
  {
   "cell_type": "code",
   "execution_count": 5,
   "metadata": {},
   "outputs": [
    {
     "data": {
      "text/plain": [
       "array(['HORIZON-JU-RIA', 'HORIZON-CSA', 'HORIZON-RIA', 'HORIZON-COFUND',\n",
       "       'HORIZON-JU-CSA', 'HORIZON-EIT-KIC', 'HORIZON-TMA-MSCA-PF-EF',\n",
       "       'CSA', 'HORIZON-AG-UN', 'HORIZON-AG', 'HORIZON-IA',\n",
       "       'HORIZON-TMA-MSCA-SE', 'HORIZON-TMA-MSCA-PF-GF',\n",
       "       'HORIZON-TMA-MSCA-Cofund-D', 'HORIZON-TMA-MSCA-Cofund-P',\n",
       "       'MSCA-PF', 'EURATOM-CSA', 'HORIZON-TMA-MSCA-DN', 'HORIZON-AG-LS',\n",
       "       'EURATOM-IA', 'HORIZON-TMA-MSCA-DN-ID', 'HORIZON-TMA-MSCA-DN-JD',\n",
       "       'HORIZON-PCP', 'HORIZON-JU-IA', 'EURATOM-RIA', 'IA',\n",
       "       'HORIZON-EIC-ACC-BF', 'HORIZON-EIC', 'EIC-ACC', 'HORIZON-EIC-ACC',\n",
       "       'EURATOM-COFUND', 'RIA', 'HORIZON-ERC-POC', 'HORIZON-ERC',\n",
       "       'HORIZON-ERC-SYG', 'ERC', 'ERC-POC', 'EIC'], dtype=object)"
      ]
     },
     "execution_count": 5,
     "metadata": {},
     "output_type": "execute_result"
    }
   ],
   "source": [
    "projects_df['funding_scheme'].unique()"
   ]
  },
  {
   "cell_type": "code",
   "execution_count": 6,
   "metadata": {},
   "outputs": [],
   "source": [
    "horizon_data = CORDIS_data(parent_dir, enrich=False)"
   ]
  },
  {
   "cell_type": "code",
   "execution_count": 7,
   "metadata": {},
   "outputs": [
    {
     "data": {
      "text/plain": [
       "array(['malaria', 'proteins', 'carbohydrates', 'virology',\n",
       "       'coronaviruses', 'vaccines', 'internet of things', 'e-commerce',\n",
       "       'ecosystems', 'orthodontics', 'government systems',\n",
       "       'energy and fuels', 'linguistics', 'obstetrics', 'microbiology',\n",
       "       'mortality', 'diabetes', 'cardiology', 'obesity', 'software'],\n",
       "      dtype=object)"
      ]
     },
     "execution_count": 7,
     "metadata": {},
     "output_type": "execute_result"
    }
   ],
   "source": [
    "horizon_data.sci_voc_df['euroSciVocTitle'].unique()[:20]"
   ]
  },
  {
   "cell_type": "code",
   "execution_count": 8,
   "metadata": {},
   "outputs": [
    {
     "data": {
      "text/plain": [
       "Index(['projectID', 'projectAcronym', 'organisationID', 'vatNumber', 'name',\n",
       "       'shortName', 'SME', 'activityType', 'street', 'postCode', 'city',\n",
       "       'country', 'nutsCode', 'geolocation', 'organizationURL', 'contactForm',\n",
       "       'contentUpdateDate', 'rcn', 'order', 'role', 'ecContribution',\n",
       "       'netEcContribution', 'totalCost', 'endOfParticipation', 'active'],\n",
       "      dtype='object')"
      ]
     },
     "execution_count": 8,
     "metadata": {},
     "output_type": "execute_result"
    }
   ],
   "source": [
    "horizon_data.organization_df.keys()"
   ]
  },
  {
   "cell_type": "code",
   "execution_count": 12,
   "metadata": {},
   "outputs": [],
   "source": [
    "from backend.utils.plots import CORDISPlots\n",
    "\n",
    "plots = CORDISPlots(horizon_data)"
   ]
  },
  {
   "cell_type": "code",
   "execution_count": 13,
   "metadata": {},
   "outputs": [
    {
     "ename": "KeyError",
     "evalue": "'sci_voc_titles'",
     "output_type": "error",
     "traceback": [
      "\u001b[1;31m---------------------------------------------------------------------------\u001b[0m",
      "\u001b[1;31mKeyError\u001b[0m                                  Traceback (most recent call last)",
      "File \u001b[1;32mc:\\Python311\\Lib\\site-packages\\pandas\\core\\indexes\\base.py:3790\u001b[0m, in \u001b[0;36mIndex.get_loc\u001b[1;34m(self, key)\u001b[0m\n\u001b[0;32m   3789\u001b[0m \u001b[38;5;28;01mtry\u001b[39;00m:\n\u001b[1;32m-> 3790\u001b[0m     \u001b[38;5;28;01mreturn\u001b[39;00m \u001b[38;5;28;43mself\u001b[39;49m\u001b[38;5;241;43m.\u001b[39;49m\u001b[43m_engine\u001b[49m\u001b[38;5;241;43m.\u001b[39;49m\u001b[43mget_loc\u001b[49m\u001b[43m(\u001b[49m\u001b[43mcasted_key\u001b[49m\u001b[43m)\u001b[49m\n\u001b[0;32m   3791\u001b[0m \u001b[38;5;28;01mexcept\u001b[39;00m \u001b[38;5;167;01mKeyError\u001b[39;00m \u001b[38;5;28;01mas\u001b[39;00m err:\n",
      "File \u001b[1;32mindex.pyx:152\u001b[0m, in \u001b[0;36mpandas._libs.index.IndexEngine.get_loc\u001b[1;34m()\u001b[0m\n",
      "File \u001b[1;32mindex.pyx:181\u001b[0m, in \u001b[0;36mpandas._libs.index.IndexEngine.get_loc\u001b[1;34m()\u001b[0m\n",
      "File \u001b[1;32mpandas\\_libs\\hashtable_class_helper.pxi:7080\u001b[0m, in \u001b[0;36mpandas._libs.hashtable.PyObjectHashTable.get_item\u001b[1;34m()\u001b[0m\n",
      "File \u001b[1;32mpandas\\_libs\\hashtable_class_helper.pxi:7088\u001b[0m, in \u001b[0;36mpandas._libs.hashtable.PyObjectHashTable.get_item\u001b[1;34m()\u001b[0m\n",
      "\u001b[1;31mKeyError\u001b[0m: 'sci_voc_titles'",
      "\nThe above exception was the direct cause of the following exception:\n",
      "\u001b[1;31mKeyError\u001b[0m                                  Traceback (most recent call last)",
      "Cell \u001b[1;32mIn[13], line 1\u001b[0m\n\u001b[1;32m----> 1\u001b[0m \u001b[43mplots\u001b[49m\u001b[38;5;241;43m.\u001b[39;49m\u001b[43mplot_collaboration_network\u001b[49m\u001b[43m(\u001b[49m\u001b[43mfield_filter\u001b[49m\u001b[38;5;241;43m=\u001b[39;49m\u001b[38;5;124;43m'\u001b[39;49m\u001b[38;5;124;43mecosystems\u001b[39;49m\u001b[38;5;124;43m'\u001b[39;49m\u001b[43m,\u001b[49m\u001b[43m \u001b[49m\n\u001b[0;32m      2\u001b[0m \u001b[43m                                 \u001b[49m\u001b[43mmax_projects\u001b[49m\u001b[38;5;241;43m=\u001b[39;49m\u001b[38;5;241;43m20\u001b[39;49m\u001b[43m,\u001b[49m\u001b[43m \u001b[49m\n\u001b[0;32m      3\u001b[0m \u001b[43m                                 \u001b[49m\u001b[43mmin_participants\u001b[49m\u001b[38;5;241;43m=\u001b[39;49m\u001b[38;5;241;43m3\u001b[39;49m\u001b[43m,\u001b[49m\u001b[43m \u001b[49m\n\u001b[0;32m      4\u001b[0m \u001b[43m                                \u001b[49m\u001b[38;5;66;43;03m#  org_types=['REC'], \u001b[39;49;00m\n\u001b[0;32m      5\u001b[0m \u001b[43m                                 \u001b[49m\u001b[43mproject_type\u001b[49m\u001b[43m \u001b[49m\u001b[38;5;241;43m=\u001b[39;49m\u001b[43m[\u001b[49m\u001b[38;5;124;43m'\u001b[39;49m\u001b[38;5;124;43mHORIZON-ERC-SYG\u001b[39;49m\u001b[38;5;124;43m'\u001b[39;49m\u001b[43m]\u001b[49m\u001b[43m)\u001b[49m\n",
      "File \u001b[1;32mc:\\Users\\suley\\Desktop\\ManaMa\\MDA\\EU_Horizon_Dashboard\\backend\\utils\\plots.py:104\u001b[0m, in \u001b[0;36mplot_collaboration_network\u001b[1;34m(self, field_filter, org_types, max_projects, min_participants, countries, disciplines, year, contribution, project_type)\u001b[0m\n\u001b[0;32m    100\u001b[0m     assert type(org_types) == list or type(org_types) == np.array\n\u001b[0;32m    102\u001b[0m # Apply scientific field filter if provided\n\u001b[0;32m    103\u001b[0m if field_filter:\n\u001b[1;32m--> 104\u001b[0m     # Filter projects based on scientific field\n\u001b[0;32m    105\u001b[0m     df_proj = df_proj[df_proj['sci_voc_titles'].apply(lambda field: field_filter in field if isinstance(field, str) else False)]\n\u001b[0;32m    106\u001b[0m     project_ids = df_proj['projectID'].unique()\n",
      "File \u001b[1;32mc:\\Python311\\Lib\\site-packages\\pandas\\core\\frame.py:3893\u001b[0m, in \u001b[0;36mDataFrame.__getitem__\u001b[1;34m(self, key)\u001b[0m\n\u001b[0;32m   3891\u001b[0m \u001b[38;5;28;01mif\u001b[39;00m \u001b[38;5;28mself\u001b[39m\u001b[38;5;241m.\u001b[39mcolumns\u001b[38;5;241m.\u001b[39mnlevels \u001b[38;5;241m>\u001b[39m \u001b[38;5;241m1\u001b[39m:\n\u001b[0;32m   3892\u001b[0m     \u001b[38;5;28;01mreturn\u001b[39;00m \u001b[38;5;28mself\u001b[39m\u001b[38;5;241m.\u001b[39m_getitem_multilevel(key)\n\u001b[1;32m-> 3893\u001b[0m indexer \u001b[38;5;241m=\u001b[39m \u001b[38;5;28;43mself\u001b[39;49m\u001b[38;5;241;43m.\u001b[39;49m\u001b[43mcolumns\u001b[49m\u001b[38;5;241;43m.\u001b[39;49m\u001b[43mget_loc\u001b[49m\u001b[43m(\u001b[49m\u001b[43mkey\u001b[49m\u001b[43m)\u001b[49m\n\u001b[0;32m   3894\u001b[0m \u001b[38;5;28;01mif\u001b[39;00m is_integer(indexer):\n\u001b[0;32m   3895\u001b[0m     indexer \u001b[38;5;241m=\u001b[39m [indexer]\n",
      "File \u001b[1;32mc:\\Python311\\Lib\\site-packages\\pandas\\core\\indexes\\base.py:3797\u001b[0m, in \u001b[0;36mIndex.get_loc\u001b[1;34m(self, key)\u001b[0m\n\u001b[0;32m   3792\u001b[0m     \u001b[38;5;28;01mif\u001b[39;00m \u001b[38;5;28misinstance\u001b[39m(casted_key, \u001b[38;5;28mslice\u001b[39m) \u001b[38;5;129;01mor\u001b[39;00m (\n\u001b[0;32m   3793\u001b[0m         \u001b[38;5;28misinstance\u001b[39m(casted_key, abc\u001b[38;5;241m.\u001b[39mIterable)\n\u001b[0;32m   3794\u001b[0m         \u001b[38;5;129;01mand\u001b[39;00m \u001b[38;5;28many\u001b[39m(\u001b[38;5;28misinstance\u001b[39m(x, \u001b[38;5;28mslice\u001b[39m) \u001b[38;5;28;01mfor\u001b[39;00m x \u001b[38;5;129;01min\u001b[39;00m casted_key)\n\u001b[0;32m   3795\u001b[0m     ):\n\u001b[0;32m   3796\u001b[0m         \u001b[38;5;28;01mraise\u001b[39;00m InvalidIndexError(key)\n\u001b[1;32m-> 3797\u001b[0m     \u001b[38;5;28;01mraise\u001b[39;00m \u001b[38;5;167;01mKeyError\u001b[39;00m(key) \u001b[38;5;28;01mfrom\u001b[39;00m \u001b[38;5;21;01merr\u001b[39;00m\n\u001b[0;32m   3798\u001b[0m \u001b[38;5;28;01mexcept\u001b[39;00m \u001b[38;5;167;01mTypeError\u001b[39;00m:\n\u001b[0;32m   3799\u001b[0m     \u001b[38;5;66;03m# If we have a listlike key, _check_indexing_error will raise\u001b[39;00m\n\u001b[0;32m   3800\u001b[0m     \u001b[38;5;66;03m#  InvalidIndexError. Otherwise we fall through and re-raise\u001b[39;00m\n\u001b[0;32m   3801\u001b[0m     \u001b[38;5;66;03m#  the TypeError.\u001b[39;00m\n\u001b[0;32m   3802\u001b[0m     \u001b[38;5;28mself\u001b[39m\u001b[38;5;241m.\u001b[39m_check_indexing_error(key)\n",
      "\u001b[1;31mKeyError\u001b[0m: 'sci_voc_titles'"
     ]
    }
   ],
   "source": [
    "plots.plot_collaboration_network(field_filter='ecosystems', \n",
    "                                 max_projects=20, \n",
    "                                 min_participants=3, \n",
    "                                #  org_types=['REC'], \n",
    "                                 project_type =['HORIZON-ERC-SYG'])"
   ]
  },
  {
   "cell_type": "markdown",
   "metadata": {},
   "source": [
    "This works but we definetely need to work on some filterings. Now it is not clear at all. We optionally include filters on the scientific field, and later on we will also allow filtering on countries.\n",
    "\n",
    "Implemented filters:\n",
    "- `field_filter`: filter on the scientific field (specific, as specified in sci_voc_title). Gives a lot of control.\n",
    "- `org-types`: filter on type of organization: research, public, private, non-profit (IDK what the acronyms stand for)\n",
    "- `max_projects`: maximal number of projects to plot\n",
    "- `min_participants`: minimal number of participating institutes. Must me larger than 2 (minimum to form a colllaboration)\n",
    "- `countries`: filter on countries\n",
    "- `scientific field`: high_level_discipline classification (EuroSciVocPath)\n",
    "- `year`: start year of the project (start_year)\n",
    "- `contribution`: contribution of the different countries\n",
    "- `project_type`: this corresponds to the different calls. e.g. ERC grand are prstigious research grants for big, ambitious, collaborative fundamental research projects\n",
    "\n"
   ]
  },
  {
   "cell_type": "markdown",
   "metadata": {},
   "source": [
    "## Refinement search per field\n",
    "\n",
    "There are many different fiels, each with their own subfield. We create a function that returns a filtered DataFrame with flexible filtering, allowing for different levels.\n",
    "\n",
    "Levels"
   ]
  },
  {
   "cell_type": "code",
   "execution_count": null,
   "metadata": {},
   "outputs": [],
   "source": [
    "class CORDISPlotter(horizon_data):\n",
    "    def __init__(self, cordis_data):\n",
    "        self.data = cordis_data\n",
    "    \n",
    "    def filter_field(self, \n",
    "                     field_class= None, \n",
    "                     field=None,\n",
    "                     subfield=None):\n",
    "        '''\n",
    "        Function to ffilter the data on different levels of dields. In descending order:\n",
    "        - field_class: e.g. natural sciences\n",
    "        - field: e.g. biology\n",
    "        - subfield: e.g. molecular biology\n",
    "        '''\n",
    "        "
   ]
  },
  {
   "cell_type": "markdown",
   "metadata": {},
   "source": [
    "We need to implement this in the CORDIS_data class. \n",
    " We add the following three fields:\n",
    " - `field_class`\n",
    " - `field`\n",
    " - `subfield`\n",
    "\n",
    "Some projects have several SciVocPaths. To cover those, we add the three field as lists for all projects. To filter one can just check field in `df_project['field'].astype(list)` to get True / False and thus a criterion to slice the DataFrame with.  "
   ]
  },
  {
   "cell_type": "code",
   "execution_count": null,
   "metadata": {},
   "outputs": [],
   "source": []
  }
 ],
 "metadata": {
  "kernelspec": {
   "display_name": "Python 3",
   "language": "python",
   "name": "python3"
  },
  "language_info": {
   "codemirror_mode": {
    "name": "ipython",
    "version": 3
   },
   "file_extension": ".py",
   "mimetype": "text/x-python",
   "name": "python",
   "nbconvert_exporter": "python",
   "pygments_lexer": "ipython3",
   "version": "3.11.0"
  }
 },
 "nbformat": 4,
 "nbformat_minor": 2
}
