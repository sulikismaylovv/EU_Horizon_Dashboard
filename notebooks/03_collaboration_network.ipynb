{
 "cells": [
  {
   "cell_type": "markdown",
   "metadata": {},
   "source": [
    "# Collaboration Network Analysis\n",
    "\n",
    "`Overview`\n",
    "This notebook analyzes and visualizes collaboration networks between countries and institutions:\n",
    "- Constructing network graphs from project partnership data\n",
    "- Analyzing network metrics (centrality, clustering, community detection)\n",
    "- Creating interactive network visualizations\n",
    "- Identifying key collaboration patterns and influential nodes\n",
    "\n",
    "`Inputs`\n",
    "- Processed project and partnership data from `../data/processed/`\n",
    "\n",
    "`Outputs`\n",
    "- Network analysis results in `../data/results/`\n",
    "- Interactive network visualizations in `../reports/figures/`\n",
    "\n",
    "`Dependencies`\n",
    "- NetworkX\n",
    "- Matplotlib\n",
    "- Plotly\n",
    "- Pandas\n",
    "- Community detection libraries\n",
    "\n",
    "*Note: This is notebook 3 of the analysis pipeline focusing on collaboration patterns*"
   ]
  },
  {
   "cell_type": "code",
   "execution_count": 2,
   "metadata": {},
   "outputs": [],
   "source": [
    "# imports\n",
    "import os\n",
    "import sys\n",
    "import pandas as pd\n",
    "import numpy as np\n",
    "import plotly.express as px\n",
    "import plotly.graph_objects as go\n",
    "from plotly.subplots import make_subplots\n",
    "import networkx as nx\n",
    "\n",
    "# Import custom modules\n",
    "run_dir = os.getcwd()\n",
    "parent_dir = os.path.dirname(run_dir)\n",
    "sys.path.append(parent_dir)\n",
    "\n",
    "from backend.utils.plots import CORDISPlots\n",
    "from backend.classes.cordis_data import CORDIS_data\n",
    "\n",
    "from backend.classes.project_data  import Project_data"
   ]
  },
  {
   "cell_type": "markdown",
   "metadata": {},
   "source": [
    "## Explore possibilities of NetworkX package\n",
    "We aim to create the following plots: \n",
    "- Frequent collaborating institutions. Indicate the 20 most frequent collaborations with lines on a map\n",
    "- Frequently collaborating people. Determine from the authors list of the publications\n",
    "- project-deliverable plots: which projects produce the main number of plots"
   ]
  },
  {
   "cell_type": "code",
   "execution_count": 3,
   "metadata": {},
   "outputs": [],
   "source": [
    "# load projects class\n",
    "projects_df = pd.read_csv(f'{parent_dir}/data/processed/projects.csv')\n",
    "organization_df = pd.read_csv(f'{parent_dir}/data/processed/organizations.csv')"
   ]
  },
  {
   "cell_type": "code",
   "execution_count": 4,
   "metadata": {},
   "outputs": [
    {
     "data": {
      "text/plain": [
       "Index(['id', 'acronym', 'status', 'title', 'start_date', 'end_date',\n",
       "       'total_cost', 'ec_max_contribution', 'ec_signature_date',\n",
       "       'framework_programme', 'master_call', 'sub_call', 'funding_scheme',\n",
       "       'nature', 'objective', 'content_update_date', 'rcn', 'grant_doi',\n",
       "       'duration_days', 'duration_months', 'duration_years', 'n_institutions',\n",
       "       'coordinator_name', 'ec_contribution_per_year', 'total_cost_per_year',\n",
       "       'field_class', 'field', 'sub_field', 'niche'],\n",
       "      dtype='object')"
      ]
     },
     "execution_count": 4,
     "metadata": {},
     "output_type": "execute_result"
    }
   ],
   "source": [
    "projects_df.keys()"
   ]
  },
  {
   "cell_type": "code",
   "execution_count": 5,
   "metadata": {},
   "outputs": [
    {
     "data": {
      "text/plain": [
       "array(['HORIZON-JU-RIA', 'HORIZON-CSA', 'HORIZON-RIA', 'HORIZON-COFUND',\n",
       "       'HORIZON-JU-CSA', 'HORIZON-EIT-KIC', 'HORIZON-TMA-MSCA-PF-EF',\n",
       "       'CSA', 'HORIZON-AG-UN', 'HORIZON-AG', 'HORIZON-IA',\n",
       "       'HORIZON-TMA-MSCA-SE', 'HORIZON-TMA-MSCA-PF-GF',\n",
       "       'HORIZON-TMA-MSCA-Cofund-D', 'HORIZON-TMA-MSCA-Cofund-P',\n",
       "       'MSCA-PF', 'EURATOM-CSA', 'HORIZON-TMA-MSCA-DN', 'HORIZON-AG-LS',\n",
       "       'EURATOM-IA', 'HORIZON-TMA-MSCA-DN-ID', 'HORIZON-TMA-MSCA-DN-JD',\n",
       "       'HORIZON-PCP', 'HORIZON-JU-IA', 'EURATOM-RIA', 'IA',\n",
       "       'HORIZON-EIC-ACC-BF', 'HORIZON-EIC', 'EIC-ACC', 'HORIZON-EIC-ACC',\n",
       "       'EURATOM-COFUND', 'RIA', 'HORIZON-ERC-POC', 'HORIZON-ERC',\n",
       "       'HORIZON-ERC-SYG', 'ERC', 'ERC-POC', 'EIC'], dtype=object)"
      ]
     },
     "execution_count": 5,
     "metadata": {},
     "output_type": "execute_result"
    }
   ],
   "source": [
    "projects_df['funding_scheme'].unique()"
   ]
  },
  {
   "cell_type": "code",
   "execution_count": 6,
   "metadata": {},
   "outputs": [],
   "source": [
    "horizon_data = CORDIS_data(parent_dir, enrich=False)"
   ]
  },
  {
   "cell_type": "code",
   "execution_count": 7,
   "metadata": {},
   "outputs": [
    {
     "data": {
      "text/plain": [
       "array(['malaria', 'proteins', 'carbohydrates', 'virology',\n",
       "       'coronaviruses', 'vaccines', 'internet of things', 'e-commerce',\n",
       "       'ecosystems', 'orthodontics', 'government systems',\n",
       "       'energy and fuels', 'linguistics', 'obstetrics', 'microbiology',\n",
       "       'mortality', 'diabetes', 'cardiology', 'obesity', 'software'],\n",
       "      dtype=object)"
      ]
     },
     "execution_count": 7,
     "metadata": {},
     "output_type": "execute_result"
    }
   ],
   "source": [
    "horizon_data.sci_voc_df['title'].unique()[:20]"
   ]
  },
  {
   "cell_type": "code",
   "execution_count": 8,
   "metadata": {},
   "outputs": [
    {
     "data": {
      "text/plain": [
       "Index(['id', 'name', 'short_name', 'vat_number', 'sme', 'activity_type',\n",
       "       'street', 'post_code', 'city', 'country', 'nuts_code', 'geolocation',\n",
       "       'organization_url', 'contact_form', 'content_update_date'],\n",
       "      dtype='object')"
      ]
     },
     "execution_count": 8,
     "metadata": {},
     "output_type": "execute_result"
    }
   ],
   "source": [
    "horizon_data.organization_df.keys()"
   ]
  },
  {
   "cell_type": "code",
   "execution_count": 9,
   "metadata": {},
   "outputs": [],
   "source": [
    "from backend.utils.plots import CORDISPlots\n",
    "\n",
    "plots = CORDISPlots(horizon_data)"
   ]
  },
  {
   "cell_type": "code",
   "execution_count": 16,
   "metadata": {},
   "outputs": [
    {
     "data": {
      "application/vnd.plotly.v1+json": {
       "config": {
        "plotlyServerURL": "https://plot.ly"
       },
       "data": [
        {
         "hoverinfo": "none",
         "line": {
          "color": "#888",
          "width": 0.5
         },
         "mode": "lines",
         "type": "scatter",
         "x": [
          -1,
          -0.8202016854356668,
          null,
          -1,
          -0.6635622048770956,
          null,
          -1,
          -0.925204487049443,
          null,
          -0.8202016854356668,
          -0.6635622048770956,
          null,
          -0.8202016854356668,
          -0.925204487049443,
          null,
          -0.6635622048770956,
          -0.925204487049443,
          null,
          0.3521495726420557,
          0.49903664439558426,
          null,
          0.3521495726420557,
          0.45357690913185594,
          null,
          0.3521495726420557,
          0.22645707683939945,
          null,
          0.49903664439558426,
          0.45357690913185594,
          null,
          0.49903664439558426,
          0.22645707683939945,
          null,
          0.45357690913185594,
          0.22645707683939945,
          null,
          0.45357690913185594,
          0.7436536087920079,
          null,
          0.45357690913185594,
          0.6492500932496645,
          null,
          0.45357690913185594,
          0.4848444723116349,
          null,
          0.7436536087920079,
          0.6492500932496645,
          null,
          0.7436536087920079,
          0.4848444723116349,
          null,
          0.6492500932496645,
          0.4848444723116349,
          null
         ],
         "y": [
          -0.3366066277362989,
          -0.4482037713884117,
          null,
          -0.3366066277362989,
          -0.22332233334932042,
          null,
          -0.3366066277362989,
          -0.13903624066227951,
          null,
          -0.4482037713884117,
          -0.22332233334932042,
          null,
          -0.4482037713884117,
          -0.13903624066227951,
          null,
          -0.22332233334932042,
          -0.13903624066227951,
          null,
          0.4115898722861389,
          0.5626101717086999,
          null,
          0.4115898722861389,
          0.14867257176192825,
          null,
          0.4115898722861389,
          0.5417692549494092,
          null,
          0.5626101717086999,
          0.14867257176192825,
          null,
          0.5626101717086999,
          0.5417692549494092,
          null,
          0.14867257176192825,
          0.5417692549494092,
          null,
          0.14867257176192825,
          -0.0707651266544353,
          null,
          0.14867257176192825,
          -0.27201271300763463,
          null,
          0.14867257176192825,
          -0.17469505790779372,
          null,
          -0.0707651266544353,
          -0.27201271300763463,
          null,
          -0.0707651266544353,
          -0.17469505790779372,
          null,
          -0.27201271300763463,
          -0.17469505790779372,
          null
         ]
        },
        {
         "hoverinfo": "text",
         "marker": {
          "color": "blue",
          "line": {
           "width": 2
          },
          "size": 10
         },
         "mode": "markers+text",
         "text": [
          "UNIVERSITY OF BRITISH COLUMBIA",
          "UNIVERSITEIT UTRECHT",
          "BEN-GURION UNIVERSITY OF THE NEGEV",
          "UNIVERSITEIT LEIDEN",
          "UNIVERSITY OF CAPE TOWN",
          "HELMHOLTZ-ZENTRUM FUR OZEANFORSCHUNG KIEL (GEOMAR)",
          "GOETEBORGS UNIVERSITET",
          "ECOLE NORMALE SUPERIEURE",
          "UNIVERSITAT WIEN",
          "CARNEGIE INSTITUTION OF WASHINGTON",
          "SYDDANSK UNIVERSITET"
         ],
         "textposition": "top center",
         "type": "scatter",
         "x": [
          -1,
          -0.8202016854356668,
          -0.6635622048770956,
          -0.925204487049443,
          0.3521495726420557,
          0.49903664439558426,
          0.45357690913185594,
          0.22645707683939945,
          0.7436536087920079,
          0.6492500932496645,
          0.4848444723116349
         ],
         "y": [
          -0.3366066277362989,
          -0.4482037713884117,
          -0.22332233334932042,
          -0.13903624066227951,
          0.4115898722861389,
          0.5626101717086999,
          0.14867257176192825,
          0.5417692549494092,
          -0.0707651266544353,
          -0.27201271300763463,
          -0.17469505790779372
         ]
        }
       ],
       "layout": {
        "hovermode": "closest",
        "margin": {
         "b": 20,
         "l": 5,
         "r": 5,
         "t": 40
        },
        "showlegend": false,
        "template": {
         "data": {
          "bar": [
           {
            "error_x": {
             "color": "#2a3f5f"
            },
            "error_y": {
             "color": "#2a3f5f"
            },
            "marker": {
             "line": {
              "color": "#E5ECF6",
              "width": 0.5
             },
             "pattern": {
              "fillmode": "overlay",
              "size": 10,
              "solidity": 0.2
             }
            },
            "type": "bar"
           }
          ],
          "barpolar": [
           {
            "marker": {
             "line": {
              "color": "#E5ECF6",
              "width": 0.5
             },
             "pattern": {
              "fillmode": "overlay",
              "size": 10,
              "solidity": 0.2
             }
            },
            "type": "barpolar"
           }
          ],
          "carpet": [
           {
            "aaxis": {
             "endlinecolor": "#2a3f5f",
             "gridcolor": "white",
             "linecolor": "white",
             "minorgridcolor": "white",
             "startlinecolor": "#2a3f5f"
            },
            "baxis": {
             "endlinecolor": "#2a3f5f",
             "gridcolor": "white",
             "linecolor": "white",
             "minorgridcolor": "white",
             "startlinecolor": "#2a3f5f"
            },
            "type": "carpet"
           }
          ],
          "choropleth": [
           {
            "colorbar": {
             "outlinewidth": 0,
             "ticks": ""
            },
            "type": "choropleth"
           }
          ],
          "contour": [
           {
            "colorbar": {
             "outlinewidth": 0,
             "ticks": ""
            },
            "colorscale": [
             [
              0,
              "#0d0887"
             ],
             [
              0.1111111111111111,
              "#46039f"
             ],
             [
              0.2222222222222222,
              "#7201a8"
             ],
             [
              0.3333333333333333,
              "#9c179e"
             ],
             [
              0.4444444444444444,
              "#bd3786"
             ],
             [
              0.5555555555555556,
              "#d8576b"
             ],
             [
              0.6666666666666666,
              "#ed7953"
             ],
             [
              0.7777777777777778,
              "#fb9f3a"
             ],
             [
              0.8888888888888888,
              "#fdca26"
             ],
             [
              1,
              "#f0f921"
             ]
            ],
            "type": "contour"
           }
          ],
          "contourcarpet": [
           {
            "colorbar": {
             "outlinewidth": 0,
             "ticks": ""
            },
            "type": "contourcarpet"
           }
          ],
          "heatmap": [
           {
            "colorbar": {
             "outlinewidth": 0,
             "ticks": ""
            },
            "colorscale": [
             [
              0,
              "#0d0887"
             ],
             [
              0.1111111111111111,
              "#46039f"
             ],
             [
              0.2222222222222222,
              "#7201a8"
             ],
             [
              0.3333333333333333,
              "#9c179e"
             ],
             [
              0.4444444444444444,
              "#bd3786"
             ],
             [
              0.5555555555555556,
              "#d8576b"
             ],
             [
              0.6666666666666666,
              "#ed7953"
             ],
             [
              0.7777777777777778,
              "#fb9f3a"
             ],
             [
              0.8888888888888888,
              "#fdca26"
             ],
             [
              1,
              "#f0f921"
             ]
            ],
            "type": "heatmap"
           }
          ],
          "heatmapgl": [
           {
            "colorbar": {
             "outlinewidth": 0,
             "ticks": ""
            },
            "colorscale": [
             [
              0,
              "#0d0887"
             ],
             [
              0.1111111111111111,
              "#46039f"
             ],
             [
              0.2222222222222222,
              "#7201a8"
             ],
             [
              0.3333333333333333,
              "#9c179e"
             ],
             [
              0.4444444444444444,
              "#bd3786"
             ],
             [
              0.5555555555555556,
              "#d8576b"
             ],
             [
              0.6666666666666666,
              "#ed7953"
             ],
             [
              0.7777777777777778,
              "#fb9f3a"
             ],
             [
              0.8888888888888888,
              "#fdca26"
             ],
             [
              1,
              "#f0f921"
             ]
            ],
            "type": "heatmapgl"
           }
          ],
          "histogram": [
           {
            "marker": {
             "pattern": {
              "fillmode": "overlay",
              "size": 10,
              "solidity": 0.2
             }
            },
            "type": "histogram"
           }
          ],
          "histogram2d": [
           {
            "colorbar": {
             "outlinewidth": 0,
             "ticks": ""
            },
            "colorscale": [
             [
              0,
              "#0d0887"
             ],
             [
              0.1111111111111111,
              "#46039f"
             ],
             [
              0.2222222222222222,
              "#7201a8"
             ],
             [
              0.3333333333333333,
              "#9c179e"
             ],
             [
              0.4444444444444444,
              "#bd3786"
             ],
             [
              0.5555555555555556,
              "#d8576b"
             ],
             [
              0.6666666666666666,
              "#ed7953"
             ],
             [
              0.7777777777777778,
              "#fb9f3a"
             ],
             [
              0.8888888888888888,
              "#fdca26"
             ],
             [
              1,
              "#f0f921"
             ]
            ],
            "type": "histogram2d"
           }
          ],
          "histogram2dcontour": [
           {
            "colorbar": {
             "outlinewidth": 0,
             "ticks": ""
            },
            "colorscale": [
             [
              0,
              "#0d0887"
             ],
             [
              0.1111111111111111,
              "#46039f"
             ],
             [
              0.2222222222222222,
              "#7201a8"
             ],
             [
              0.3333333333333333,
              "#9c179e"
             ],
             [
              0.4444444444444444,
              "#bd3786"
             ],
             [
              0.5555555555555556,
              "#d8576b"
             ],
             [
              0.6666666666666666,
              "#ed7953"
             ],
             [
              0.7777777777777778,
              "#fb9f3a"
             ],
             [
              0.8888888888888888,
              "#fdca26"
             ],
             [
              1,
              "#f0f921"
             ]
            ],
            "type": "histogram2dcontour"
           }
          ],
          "mesh3d": [
           {
            "colorbar": {
             "outlinewidth": 0,
             "ticks": ""
            },
            "type": "mesh3d"
           }
          ],
          "parcoords": [
           {
            "line": {
             "colorbar": {
              "outlinewidth": 0,
              "ticks": ""
             }
            },
            "type": "parcoords"
           }
          ],
          "pie": [
           {
            "automargin": true,
            "type": "pie"
           }
          ],
          "scatter": [
           {
            "fillpattern": {
             "fillmode": "overlay",
             "size": 10,
             "solidity": 0.2
            },
            "type": "scatter"
           }
          ],
          "scatter3d": [
           {
            "line": {
             "colorbar": {
              "outlinewidth": 0,
              "ticks": ""
             }
            },
            "marker": {
             "colorbar": {
              "outlinewidth": 0,
              "ticks": ""
             }
            },
            "type": "scatter3d"
           }
          ],
          "scattercarpet": [
           {
            "marker": {
             "colorbar": {
              "outlinewidth": 0,
              "ticks": ""
             }
            },
            "type": "scattercarpet"
           }
          ],
          "scattergeo": [
           {
            "marker": {
             "colorbar": {
              "outlinewidth": 0,
              "ticks": ""
             }
            },
            "type": "scattergeo"
           }
          ],
          "scattergl": [
           {
            "marker": {
             "colorbar": {
              "outlinewidth": 0,
              "ticks": ""
             }
            },
            "type": "scattergl"
           }
          ],
          "scattermapbox": [
           {
            "marker": {
             "colorbar": {
              "outlinewidth": 0,
              "ticks": ""
             }
            },
            "type": "scattermapbox"
           }
          ],
          "scatterpolar": [
           {
            "marker": {
             "colorbar": {
              "outlinewidth": 0,
              "ticks": ""
             }
            },
            "type": "scatterpolar"
           }
          ],
          "scatterpolargl": [
           {
            "marker": {
             "colorbar": {
              "outlinewidth": 0,
              "ticks": ""
             }
            },
            "type": "scatterpolargl"
           }
          ],
          "scatterternary": [
           {
            "marker": {
             "colorbar": {
              "outlinewidth": 0,
              "ticks": ""
             }
            },
            "type": "scatterternary"
           }
          ],
          "surface": [
           {
            "colorbar": {
             "outlinewidth": 0,
             "ticks": ""
            },
            "colorscale": [
             [
              0,
              "#0d0887"
             ],
             [
              0.1111111111111111,
              "#46039f"
             ],
             [
              0.2222222222222222,
              "#7201a8"
             ],
             [
              0.3333333333333333,
              "#9c179e"
             ],
             [
              0.4444444444444444,
              "#bd3786"
             ],
             [
              0.5555555555555556,
              "#d8576b"
             ],
             [
              0.6666666666666666,
              "#ed7953"
             ],
             [
              0.7777777777777778,
              "#fb9f3a"
             ],
             [
              0.8888888888888888,
              "#fdca26"
             ],
             [
              1,
              "#f0f921"
             ]
            ],
            "type": "surface"
           }
          ],
          "table": [
           {
            "cells": {
             "fill": {
              "color": "#EBF0F8"
             },
             "line": {
              "color": "white"
             }
            },
            "header": {
             "fill": {
              "color": "#C8D4E3"
             },
             "line": {
              "color": "white"
             }
            },
            "type": "table"
           }
          ]
         },
         "layout": {
          "annotationdefaults": {
           "arrowcolor": "#2a3f5f",
           "arrowhead": 0,
           "arrowwidth": 1
          },
          "autotypenumbers": "strict",
          "coloraxis": {
           "colorbar": {
            "outlinewidth": 0,
            "ticks": ""
           }
          },
          "colorscale": {
           "diverging": [
            [
             0,
             "#8e0152"
            ],
            [
             0.1,
             "#c51b7d"
            ],
            [
             0.2,
             "#de77ae"
            ],
            [
             0.3,
             "#f1b6da"
            ],
            [
             0.4,
             "#fde0ef"
            ],
            [
             0.5,
             "#f7f7f7"
            ],
            [
             0.6,
             "#e6f5d0"
            ],
            [
             0.7,
             "#b8e186"
            ],
            [
             0.8,
             "#7fbc41"
            ],
            [
             0.9,
             "#4d9221"
            ],
            [
             1,
             "#276419"
            ]
           ],
           "sequential": [
            [
             0,
             "#0d0887"
            ],
            [
             0.1111111111111111,
             "#46039f"
            ],
            [
             0.2222222222222222,
             "#7201a8"
            ],
            [
             0.3333333333333333,
             "#9c179e"
            ],
            [
             0.4444444444444444,
             "#bd3786"
            ],
            [
             0.5555555555555556,
             "#d8576b"
            ],
            [
             0.6666666666666666,
             "#ed7953"
            ],
            [
             0.7777777777777778,
             "#fb9f3a"
            ],
            [
             0.8888888888888888,
             "#fdca26"
            ],
            [
             1,
             "#f0f921"
            ]
           ],
           "sequentialminus": [
            [
             0,
             "#0d0887"
            ],
            [
             0.1111111111111111,
             "#46039f"
            ],
            [
             0.2222222222222222,
             "#7201a8"
            ],
            [
             0.3333333333333333,
             "#9c179e"
            ],
            [
             0.4444444444444444,
             "#bd3786"
            ],
            [
             0.5555555555555556,
             "#d8576b"
            ],
            [
             0.6666666666666666,
             "#ed7953"
            ],
            [
             0.7777777777777778,
             "#fb9f3a"
            ],
            [
             0.8888888888888888,
             "#fdca26"
            ],
            [
             1,
             "#f0f921"
            ]
           ]
          },
          "colorway": [
           "#636efa",
           "#EF553B",
           "#00cc96",
           "#ab63fa",
           "#FFA15A",
           "#19d3f3",
           "#FF6692",
           "#B6E880",
           "#FF97FF",
           "#FECB52"
          ],
          "font": {
           "color": "#2a3f5f"
          },
          "geo": {
           "bgcolor": "white",
           "lakecolor": "white",
           "landcolor": "#E5ECF6",
           "showlakes": true,
           "showland": true,
           "subunitcolor": "white"
          },
          "hoverlabel": {
           "align": "left"
          },
          "hovermode": "closest",
          "mapbox": {
           "style": "light"
          },
          "paper_bgcolor": "white",
          "plot_bgcolor": "#E5ECF6",
          "polar": {
           "angularaxis": {
            "gridcolor": "white",
            "linecolor": "white",
            "ticks": ""
           },
           "bgcolor": "#E5ECF6",
           "radialaxis": {
            "gridcolor": "white",
            "linecolor": "white",
            "ticks": ""
           }
          },
          "scene": {
           "xaxis": {
            "backgroundcolor": "#E5ECF6",
            "gridcolor": "white",
            "gridwidth": 2,
            "linecolor": "white",
            "showbackground": true,
            "ticks": "",
            "zerolinecolor": "white"
           },
           "yaxis": {
            "backgroundcolor": "#E5ECF6",
            "gridcolor": "white",
            "gridwidth": 2,
            "linecolor": "white",
            "showbackground": true,
            "ticks": "",
            "zerolinecolor": "white"
           },
           "zaxis": {
            "backgroundcolor": "#E5ECF6",
            "gridcolor": "white",
            "gridwidth": 2,
            "linecolor": "white",
            "showbackground": true,
            "ticks": "",
            "zerolinecolor": "white"
           }
          },
          "shapedefaults": {
           "line": {
            "color": "#2a3f5f"
           }
          },
          "ternary": {
           "aaxis": {
            "gridcolor": "white",
            "linecolor": "white",
            "ticks": ""
           },
           "baxis": {
            "gridcolor": "white",
            "linecolor": "white",
            "ticks": ""
           },
           "bgcolor": "#E5ECF6",
           "caxis": {
            "gridcolor": "white",
            "linecolor": "white",
            "ticks": ""
           }
          },
          "title": {
           "x": 0.05
          },
          "xaxis": {
           "automargin": true,
           "gridcolor": "white",
           "linecolor": "white",
           "ticks": "",
           "title": {
            "standoff": 15
           },
           "zerolinecolor": "white",
           "zerolinewidth": 2
          },
          "yaxis": {
           "automargin": true,
           "gridcolor": "white",
           "linecolor": "white",
           "ticks": "",
           "title": {
            "standoff": 15
           },
           "zerolinecolor": "white",
           "zerolinewidth": 2
          }
         }
        },
        "title": {
         "text": "Collaboration Network for ecosystems"
        },
        "xaxis": {
         "showgrid": false,
         "zeroline": false
        },
        "yaxis": {
         "showgrid": false,
         "zeroline": false
        }
       }
      }
     },
     "metadata": {},
     "output_type": "display_data"
    }
   ],
   "source": [
    "fig = plots.plot_collaboration_network(\n",
    "    field_filter='ecosystems',\n",
    "    max_projects=20,\n",
    "    min_participants=3,\n",
    "    project_type=['HORIZON-ERC-SYG']\n",
    ")\n",
    "fig.show()\n",
    "\n",
    "# Plot minimal collaboration network\n",
    "#plots.plot_collaboration_network(min_participants=1)"
   ]
  },
  {
   "cell_type": "markdown",
   "metadata": {},
   "source": [
    "This works but we definetely need to work on some filterings. Now it is not clear at all. We optionally include filters on the scientific field, and later on we will also allow filtering on countries.\n",
    "\n",
    "Implemented filters:\n",
    "- `field_filter`: filter on the scientific field (specific, as specified in sci_voc_title). Gives a lot of control.\n",
    "- `org-types`: filter on type of organization: research, public, private, non-profit (IDK what the acronyms stand for)\n",
    "- `max_projects`: maximal number of projects to plot\n",
    "- `min_participants`: minimal number of participating institutes. Must me larger than 2 (minimum to form a colllaboration)\n",
    "- `countries`: filter on countries\n",
    "- `scientific field`: high_level_discipline classification (EuroSciVocPath)\n",
    "- `year`: start year of the project (start_year)\n",
    "- `contribution`: contribution of the different countries\n",
    "- `project_type`: this corresponds to the different calls. e.g. ERC grand are prstigious research grants for big, ambitious, collaborative fundamental research projects\n",
    "\n"
   ]
  },
  {
   "cell_type": "markdown",
   "metadata": {},
   "source": [
    "## Refinement search per field\n",
    "\n",
    "There are many different fiels, each with their own subfield. We create a function that returns a filtered DataFrame with flexible filtering, allowing for different levels.\n",
    "\n",
    "Levels"
   ]
  },
  {
   "cell_type": "code",
   "execution_count": null,
   "metadata": {},
   "outputs": [
    {
     "ename": "TypeError",
     "evalue": "CORDIS_data.__init__() takes from 2 to 3 positional arguments but 4 were given",
     "output_type": "error",
     "traceback": [
      "\u001b[1;31m---------------------------------------------------------------------------\u001b[0m",
      "\u001b[1;31mTypeError\u001b[0m                                 Traceback (most recent call last)",
      "Cell \u001b[1;32mIn[10], line 1\u001b[0m\n\u001b[1;32m----> 1\u001b[0m \u001b[38;5;28;43;01mclass\u001b[39;49;00m\u001b[43m \u001b[49m\u001b[38;5;21;43;01mCORDISPlotter\u001b[39;49;00m\u001b[43m(\u001b[49m\u001b[43mhorizon_data\u001b[49m\u001b[43m)\u001b[49m\u001b[43m:\u001b[49m\n\u001b[0;32m      2\u001b[0m \u001b[43m    \u001b[49m\u001b[38;5;28;43;01mdef\u001b[39;49;00m\u001b[43m \u001b[49m\u001b[38;5;21;43m__init__\u001b[39;49m\u001b[43m(\u001b[49m\u001b[38;5;28;43mself\u001b[39;49m\u001b[43m,\u001b[49m\u001b[43m \u001b[49m\u001b[43mcordis_data\u001b[49m\u001b[43m)\u001b[49m\u001b[43m:\u001b[49m\n\u001b[0;32m      3\u001b[0m \u001b[43m        \u001b[49m\u001b[38;5;28;43mself\u001b[39;49m\u001b[38;5;241;43m.\u001b[39;49m\u001b[43mdata\u001b[49m\u001b[43m \u001b[49m\u001b[38;5;241;43m=\u001b[39;49m\u001b[43m \u001b[49m\u001b[43mcordis_data\u001b[49m\n",
      "\u001b[1;31mTypeError\u001b[0m: CORDIS_data.__init__() takes from 2 to 3 positional arguments but 4 were given"
     ]
    }
   ],
   "source": [
    "class CORDISPlotter(horizon_data):\n",
    "    def __init__(self, cordis_data):\n",
    "        self.data = cordis_data\n",
    "    \n",
    "    def filter_field(self, \n",
    "                     field_class= None, \n",
    "                     field=None,\n",
    "                     subfield=None):\n",
    "        '''\n",
    "        Function to ffilter the data on different levels of dields. In descending order:\n",
    "        - field_class: e.g. natural sciences\n",
    "        - field: e.g. biology\n",
    "        - subfield: e.g. molecular biology\n",
    "        '''\n",
    "        "
   ]
  },
  {
   "cell_type": "markdown",
   "metadata": {},
   "source": [
    "We need to implement this in the CORDIS_data class. \n",
    " We add the following three fields:\n",
    " - `field_class`\n",
    " - `field`\n",
    " - `subfield`\n",
    "\n",
    "Some projects have several SciVocPaths. To cover those, we add the three field as lists for all projects. To filter one can just check field in `df_project['field'].astype(list)` to get True / False and thus a criterion to slice the DataFrame with.  "
   ]
  },
  {
   "cell_type": "code",
   "execution_count": null,
   "metadata": {},
   "outputs": [],
   "source": []
  }
 ],
 "metadata": {
  "kernelspec": {
   "display_name": "Python 3",
   "language": "python",
   "name": "python3"
  },
  "language_info": {
   "codemirror_mode": {
    "name": "ipython",
    "version": 3
   },
   "file_extension": ".py",
   "mimetype": "text/x-python",
   "name": "python",
   "nbconvert_exporter": "python",
   "pygments_lexer": "ipython3",
   "version": "3.11.0"
  }
 },
 "nbformat": 4,
 "nbformat_minor": 2
}
